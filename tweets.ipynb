{
 "cells": [
  {
   "cell_type": "markdown",
   "metadata": {},
   "source": [
    " \n",
    " ####  <U> <center style =\"color:black\" > Institut Supérieur d'Informatique et des Technologies de Communication de Hammam Sousse </center></U>\n",
    " <img src=\"logo.png\" width=\"100\" height=\"100\" align=\"center\"/>\n",
    "<hr size=5 width=100%>"
   ]
  },
  {
   "cell_type": "markdown",
   "metadata": {},
   "source": [
    "<div style=\"padding:10px; border:5px double black; background-color:white; \">   <center>    <h1><font color='red' align=\"center\" >Classification des Tweets</font></h1></center> </div>"
   ]
  },
  {
   "cell_type": "markdown",
   "metadata": {},
   "source": [
    "<center><h2><font color='blue' align=\"center\">Realisée par : Mariem Gmach </font></h2></center>\n",
    "<hr size=5 width=50%>"
   ]
  },
  {
   "cell_type": "markdown",
   "metadata": {},
   "source": [
    "#####  <center><font color='black' align=\"center\" >2020/2021</font></center>\n",
    "<hr size=5 width=100% >"
   ]
  },
  {
   "cell_type": "markdown",
   "metadata": {},
   "source": [
    "# Importation des bibliothéques"
   ]
  },
  {
   "cell_type": "code",
   "execution_count": 19,
   "metadata": {},
   "outputs": [],
   "source": [
    "import seaborn as sns"
   ]
  },
  {
   "cell_type": "code",
   "execution_count": 3,
   "metadata": {},
   "outputs": [
    {
     "name": "stderr",
     "output_type": "stream",
     "text": [
      "[nltk_data] Downloading package stopwords to C:\\Users\\maryem\n",
      "[nltk_data]     gmach\\AppData\\Roaming\\nltk_data...\n",
      "[nltk_data]   Package stopwords is already up-to-date!\n",
      "[nltk_data] Downloading package wordnet to C:\\Users\\maryem\n",
      "[nltk_data]     gmach\\AppData\\Roaming\\nltk_data...\n",
      "[nltk_data]   Package wordnet is already up-to-date!\n"
     ]
    }
   ],
   "source": [
    "# General:\n",
    "import tweepy           # To consume Twitter's API\n",
    "import pandas as pd     # To handle data\n",
    "import numpy as np      # For number computing\n",
    "from tweepy import API\n",
    "from tweepy import OAuthHandler\n",
    "\n",
    "# For plotting and visualization:\n",
    "from IPython.display import display\n",
    "import matplotlib.pyplot as plt\n",
    "import seaborn as sns\n",
    "%matplotlib inline\n",
    "\n",
    "from sklearn.cluster import KMeans\n",
    "from statistics import mean\n",
    "import re\n",
    "from scipy import stats\n",
    "from scipy.stats import skew, norm\n",
    "from scipy.special import boxcox1p\n",
    "from scipy.stats import boxcox_normmax\n",
    "from sklearn.preprocessing import StandardScaler\n",
    "\n",
    "from tweepy import Cursor\n",
    "from tweepy.streaming import StreamListener\n",
    "\n",
    "from tweepy import Stream\n",
    "import csv\n",
    "\n",
    "import json\n",
    "import sys\n",
    "\n",
    "import tweepy\n",
    "import matplotlib.pyplot as plt\n",
    "import nltk\n",
    "nltk.download('stopwords')\n",
    "nltk.download('wordnet')\n",
    "from nltk.tokenize import RegexpTokenizer, WhitespaceTokenizer\n",
    "from nltk.stem import WordNetLemmatizer\n",
    "from nltk.corpus import stopwords\n",
    "import string\n",
    "from string import punctuation\n",
    "import datetime\n",
    "import en_core_web_sm\n",
    "import collections\n",
    "from collections import Counter\n",
    "from sklearn.feature_extraction.text import CountVectorizer, TfidfVectorizer\n",
    "import en_core_web_sm\n",
    "\n",
    "from sklearn.feature_extraction.text import CountVectorizer, TfidfTransformer\n",
    "from sklearn.metrics.pairwise import cosine_similarity\n",
    "from sklearn.decomposition import PCA"
   ]
  },
  {
   "cell_type": "code",
   "execution_count": 21,
   "metadata": {},
   "outputs": [
    {
     "name": "stdout",
     "output_type": "stream",
     "text": [
      "The watermark extension is already loaded. To reload it, use:\n",
      "  %reload_ext watermark\n",
      "re            : 2.2.1\n",
      "nltk          : 3.5\n",
      "seaborn       : 0.10.1\n",
      "pandas        : 1.0.5\n",
      "numpy         : 1.18.5\n",
      "en_core_web_sm: 2.3.1\n",
      "json          : 2.0.9\n",
      "sys           : 3.8.3 (default, Jul  2 2020, 17:30:36) [MSC v.1916 64 bit (AMD64)]\n",
      "tweepy        : 3.9.0\n",
      "matplotlib    : 3.2.2\n",
      "scipy         : 1.5.0\n",
      "csv           : 1.0\n",
      "\n"
     ]
    }
   ],
   "source": [
    "%load_ext watermark\n",
    "%watermark --iversions"
   ]
  },
  {
   "cell_type": "code",
   "execution_count": 13,
   "metadata": {},
   "outputs": [
    {
     "name": "stdout",
     "output_type": "stream",
     "text": [
      "Watermark: 2.1.0\n",
      "\n"
     ]
    }
   ],
   "source": [
    "%watermark --watermark"
   ]
  },
  {
   "cell_type": "code",
   "execution_count": 11,
   "metadata": {},
   "outputs": [
    {
     "name": "stdout",
     "output_type": "stream",
     "text": [
      "Obtaining watermark from git+https://github.com/rasbt/watermark#egg=watermark"
     ]
    },
    {
     "name": "stderr",
     "output_type": "stream",
     "text": [
      "WARNING: You are using pip version 20.3.1; however, version 20.3.3 is available.\n",
      "You should consider upgrading via the 'c:\\users\\maryem gmach\\anaconda3\\python.exe -m pip install --upgrade pip' command.\n"
     ]
    },
    {
     "name": "stdout",
     "output_type": "stream",
     "text": [
      "\n",
      "  Cloning https://github.com/rasbt/watermark to c:\\users\\maryem gmach\\desktop\\machinelearning\\tweet\\src\\watermark\n",
      "Requirement already satisfied: ipython in c:\\users\\maryem gmach\\anaconda3\\lib\\site-packages (from watermark) (7.16.1)\n",
      "Requirement already satisfied: jedi>=0.10 in c:\\users\\maryem gmach\\anaconda3\\lib\\site-packages (from ipython->watermark) (0.17.1)\n",
      "Requirement already satisfied: backcall in c:\\users\\maryem gmach\\anaconda3\\lib\\site-packages (from ipython->watermark) (0.2.0)\n",
      "Requirement already satisfied: prompt-toolkit!=3.0.0,!=3.0.1,<3.1.0,>=2.0.0 in c:\\users\\maryem gmach\\anaconda3\\lib\\site-packages (from ipython->watermark) (3.0.5)\n",
      "Requirement already satisfied: decorator in c:\\users\\maryem gmach\\anaconda3\\lib\\site-packages (from ipython->watermark) (4.4.2)\n",
      "Requirement already satisfied: colorama in c:\\users\\maryem gmach\\anaconda3\\lib\\site-packages (from ipython->watermark) (0.4.3)\n",
      "Requirement already satisfied: pygments in c:\\users\\maryem gmach\\anaconda3\\lib\\site-packages (from ipython->watermark) (2.6.1)\n",
      "Requirement already satisfied: traitlets>=4.2 in c:\\users\\maryem gmach\\anaconda3\\lib\\site-packages (from ipython->watermark) (4.3.3)\n",
      "Requirement already satisfied: setuptools>=18.5 in c:\\users\\maryem gmach\\anaconda3\\lib\\site-packages (from ipython->watermark) (49.2.0.post20200714)\n",
      "Requirement already satisfied: pickleshare in c:\\users\\maryem gmach\\anaconda3\\lib\\site-packages (from ipython->watermark) (0.7.5)\n",
      "Requirement already satisfied: parso<0.8.0,>=0.7.0 in c:\\users\\maryem gmach\\anaconda3\\lib\\site-packages (from jedi>=0.10->ipython->watermark) (0.7.0)\n",
      "Requirement already satisfied: wcwidth in c:\\users\\maryem gmach\\anaconda3\\lib\\site-packages (from prompt-toolkit!=3.0.0,!=3.0.1,<3.1.0,>=2.0.0->ipython->watermark) (0.2.5)\n",
      "Requirement already satisfied: six in c:\\users\\maryem gmach\\anaconda3\\lib\\site-packages (from traitlets>=4.2->ipython->watermark) (1.15.0)\n",
      "Requirement already satisfied: decorator in c:\\users\\maryem gmach\\anaconda3\\lib\\site-packages (from ipython->watermark) (4.4.2)\n",
      "Requirement already satisfied: ipython-genutils in c:\\users\\maryem gmach\\anaconda3\\lib\\site-packages (from traitlets>=4.2->ipython->watermark) (0.2.0)\n",
      "Installing collected packages: watermark\n",
      "  Attempting uninstall: watermark\n",
      "    Found existing installation: watermark 2.1.0\n",
      "    Uninstalling watermark-2.1.0:\n",
      "      Successfully uninstalled watermark-2.1.0\n",
      "  Running setup.py develop for watermark\n",
      "Successfully installed watermark\n"
     ]
    }
   ],
   "source": [
    "!pip install -e git+https://github.com/rasbt/watermark#egg=watermark"
   ]
  },
  {
   "cell_type": "code",
   "execution_count": 14,
   "metadata": {},
   "outputs": [
    {
     "name": "stdout",
     "output_type": "stream",
     "text": [
      "Last updated: 2020-12-18T23:01:03.716930+01:00\n",
      "\n",
      "Python implementation: CPython\n",
      "Python version       : 3.8.3\n",
      "IPython version      : 7.16.1\n",
      "\n",
      "Compiler    : MSC v.1916 64 bit (AMD64)\n",
      "OS          : Windows\n",
      "Release     : 10\n",
      "Machine     : AMD64\n",
      "Processor   : Intel64 Family 6 Model 142 Stepping 10, GenuineIntel\n",
      "CPU cores   : 8\n",
      "Architecture: 64bit\n",
      "\n"
     ]
    }
   ],
   "source": [
    "\n",
    "%watermark"
   ]
  },
  {
   "cell_type": "markdown",
   "metadata": {},
   "source": [
    "# Authentification"
   ]
  },
  {
   "cell_type": "code",
   "execution_count": 2,
   "metadata": {},
   "outputs": [],
   "source": [
    "\n",
    "CONSUMER_KEY    ='VGc9wwQu73No9ZTkDhOrjara1'\n",
    "CONSUMER_SECRET ='o0VjEqqIxQkrp1WkFfpB41kdmTwtmLKzDAOHlEcpFxHoygEUDu'\n",
    "\n",
    "# Access:\n",
    "ACCESS_TOKEN  ='1327352036090933248-l4k9fbhbFSuV7gZGSgRmGavr5mvdDD'\n",
    "ACCESS_SECRET ='y6ss9QTjJLRVuAiLVW08f8w2p0DyXQtNsqLV55ufyHtI7'\n",
    "\n",
    "auth = tweepy.OAuthHandler(CONSUMER_KEY, CONSUMER_SECRET)\n",
    "auth.set_access_token(ACCESS_TOKEN, ACCESS_SECRET)\n",
    "api = tweepy.API(auth, wait_on_rate_limit=True)"
   ]
  },
  {
   "cell_type": "markdown",
   "metadata": {},
   "source": [
    "# Extraction des données"
   ]
  },
  {
   "cell_type": "code",
   "execution_count": 8,
   "metadata": {},
   "outputs": [],
   "source": [
    "\n",
    "filename ='Tweet'+'.csv'\n",
    "with open (filename, 'w', newline='',encoding=\"utf-8\") as csvFile:\n",
    "    csvWriter = csv.writer(csvFile)\n",
    "    csvWriter.writerow(['TweetId','screen_name','Tweet'])\n",
    "    #using tweepy Cursor\n",
    "    for tweet in tweepy.Cursor(api.search, q='health', lang = 'en').items(3000):\n",
    "    #writing a csv file\n",
    "        tweets_encoded = tweet.text.encode('utf-8')\n",
    "        tweets_decoded = tweets_encoded.decode('utf-8')\n",
    "        csvWriter.writerow([tweet.id,tweet.user.name,tweets_decoded])\n",
    "        \n",
    "    for tweet in tweepy.Cursor(api.search, q='econmic', lang = 'en').items(3000):\n",
    "    #writing a csv file\n",
    "        tweets_encoded = tweet.text.encode('utf-8')\n",
    "        tweets_decoded = tweets_encoded.decode('utf-8')\n",
    "        csvWriter.writerow([tweet.id,tweet.user.name,tweets_decoded])\n",
    "        \n",
    "    for tweet in tweepy.Cursor(api.search, q='social', lang = 'en').items(3000):\n",
    "    #writing a csv file\n",
    "        tweets_encoded = tweet.text.encode('utf-8')\n",
    "        tweets_decoded = tweets_encoded.decode('utf-8')\n",
    "        csvWriter.writerow([tweet.id,tweet.user.name,tweets_decoded])\n",
    "        \n",
    "    for tweet in tweepy.Cursor(api.search, q='culture', lang = 'en').items(3000):\n",
    "    #writing a csv file\n",
    "        tweets_encoded = tweet.text.encode('utf-8')\n",
    "        tweets_decoded = tweets_encoded.decode('utf-8')\n",
    "        csvWriter.writerow([tweet.id,tweet.user.name,tweets_decoded])\n",
    "   \n"
   ]
  },
  {
   "cell_type": "code",
   "execution_count": 19,
   "metadata": {},
   "outputs": [],
   "source": [
    "tweet = pd.read_csv('Tweet.csv')"
   ]
  },
  {
   "cell_type": "code",
   "execution_count": 20,
   "metadata": {},
   "outputs": [
    {
     "data": {
      "text/html": [
       "<div>\n",
       "<style scoped>\n",
       "    .dataframe tbody tr th:only-of-type {\n",
       "        vertical-align: middle;\n",
       "    }\n",
       "\n",
       "    .dataframe tbody tr th {\n",
       "        vertical-align: top;\n",
       "    }\n",
       "\n",
       "    .dataframe thead th {\n",
       "        text-align: right;\n",
       "    }\n",
       "</style>\n",
       "<table border=\"1\" class=\"dataframe\">\n",
       "  <thead>\n",
       "    <tr style=\"text-align: right;\">\n",
       "      <th></th>\n",
       "      <th>TweetId</th>\n",
       "      <th>screen_name</th>\n",
       "      <th>Tweet</th>\n",
       "    </tr>\n",
       "  </thead>\n",
       "  <tbody>\n",
       "    <tr>\n",
       "      <th>0</th>\n",
       "      <td>1338523620075851778</td>\n",
       "      <td>Cambia Health</td>\n",
       "      <td>RT @HealthEcho: Excellent piece on @cityblockh...</td>\n",
       "    </tr>\n",
       "    <tr>\n",
       "      <th>1</th>\n",
       "      <td>1338523619505434625</td>\n",
       "      <td>Vape N Fan</td>\n",
       "      <td>RT @BeschlossDC: White House staff members are...</td>\n",
       "    </tr>\n",
       "    <tr>\n",
       "      <th>2</th>\n",
       "      <td>1338523619199213576</td>\n",
       "      <td>Alexis, Winter Warqueer 🏴🏳️‍⚧️</td>\n",
       "      <td>RT @BBCBweaking: Huohhhh. New vawiant of cowon...</td>\n",
       "    </tr>\n",
       "    <tr>\n",
       "      <th>3</th>\n",
       "      <td>1338523618976833536</td>\n",
       "      <td>Jeannette MacGregor</td>\n",
       "      <td>RT @GlobalEdmonton: Alberta health officials a...</td>\n",
       "    </tr>\n",
       "    <tr>\n",
       "      <th>4</th>\n",
       "      <td>1338523618624454675</td>\n",
       "      <td>〽️arc</td>\n",
       "      <td>Show your girl off its good for their health</td>\n",
       "    </tr>\n",
       "    <tr>\n",
       "      <th>...</th>\n",
       "      <td>...</td>\n",
       "      <td>...</td>\n",
       "      <td>...</td>\n",
       "    </tr>\n",
       "    <tr>\n",
       "      <th>9096</th>\n",
       "      <td>1338524985187512331</td>\n",
       "      <td>New Mexico History Museum</td>\n",
       "      <td>RT @NewMexico: So much incredible history and ...</td>\n",
       "    </tr>\n",
       "    <tr>\n",
       "      <th>9097</th>\n",
       "      <td>1338524984478732288</td>\n",
       "      <td>Sam Johnson</td>\n",
       "      <td>So grateful to have joined this dynamic team l...</td>\n",
       "    </tr>\n",
       "    <tr>\n",
       "      <th>9098</th>\n",
       "      <td>1338524982952030208</td>\n",
       "      <td>crouchin’ on the outside</td>\n",
       "      <td>I’ve said it before and I’ll say it again if y...</td>\n",
       "    </tr>\n",
       "    <tr>\n",
       "      <th>9099</th>\n",
       "      <td>1338524979089043461</td>\n",
       "      <td>EveryVoteMatters</td>\n",
       "      <td>RT @eugenegu: @realDonaldTrump Dropping the us...</td>\n",
       "    </tr>\n",
       "    <tr>\n",
       "      <th>9100</th>\n",
       "      <td>1338524977352429569</td>\n",
       "      <td>BKCMcGin</td>\n",
       "      <td>@KalashQueen Culture. Some is just better than...</td>\n",
       "    </tr>\n",
       "  </tbody>\n",
       "</table>\n",
       "<p>9101 rows × 3 columns</p>\n",
       "</div>"
      ],
      "text/plain": [
       "                  TweetId                     screen_name  \\\n",
       "0     1338523620075851778                   Cambia Health   \n",
       "1     1338523619505434625                      Vape N Fan   \n",
       "2     1338523619199213576  Alexis, Winter Warqueer 🏴🏳️‍⚧️   \n",
       "3     1338523618976833536             Jeannette MacGregor   \n",
       "4     1338523618624454675                           〽️arc   \n",
       "...                   ...                             ...   \n",
       "9096  1338524985187512331       New Mexico History Museum   \n",
       "9097  1338524984478732288                     Sam Johnson   \n",
       "9098  1338524982952030208        crouchin’ on the outside   \n",
       "9099  1338524979089043461                EveryVoteMatters   \n",
       "9100  1338524977352429569                        BKCMcGin   \n",
       "\n",
       "                                                  Tweet  \n",
       "0     RT @HealthEcho: Excellent piece on @cityblockh...  \n",
       "1     RT @BeschlossDC: White House staff members are...  \n",
       "2     RT @BBCBweaking: Huohhhh. New vawiant of cowon...  \n",
       "3     RT @GlobalEdmonton: Alberta health officials a...  \n",
       "4          Show your girl off its good for their health  \n",
       "...                                                 ...  \n",
       "9096  RT @NewMexico: So much incredible history and ...  \n",
       "9097  So grateful to have joined this dynamic team l...  \n",
       "9098  I’ve said it before and I’ll say it again if y...  \n",
       "9099  RT @eugenegu: @realDonaldTrump Dropping the us...  \n",
       "9100  @KalashQueen Culture. Some is just better than...  \n",
       "\n",
       "[9101 rows x 3 columns]"
      ]
     },
     "execution_count": 20,
     "metadata": {},
     "output_type": "execute_result"
    }
   ],
   "source": [
    "tweet"
   ]
  },
  {
   "cell_type": "markdown",
   "metadata": {},
   "source": [
    "# Cleaning the tweets"
   ]
  },
  {
   "cell_type": "markdown",
   "metadata": {},
   "source": [
    "lemmatization, tokenizing, removing stopwards, punctuations, hashtags and mentions"
   ]
  },
  {
   "cell_type": "code",
   "execution_count": 21,
   "metadata": {},
   "outputs": [
    {
     "data": {
      "text/html": [
       "<div>\n",
       "<style scoped>\n",
       "    .dataframe tbody tr th:only-of-type {\n",
       "        vertical-align: middle;\n",
       "    }\n",
       "\n",
       "    .dataframe tbody tr th {\n",
       "        vertical-align: top;\n",
       "    }\n",
       "\n",
       "    .dataframe thead th {\n",
       "        text-align: right;\n",
       "    }\n",
       "</style>\n",
       "<table border=\"1\" class=\"dataframe\">\n",
       "  <thead>\n",
       "    <tr style=\"text-align: right;\">\n",
       "      <th></th>\n",
       "      <th>TweetId</th>\n",
       "      <th>screen_name</th>\n",
       "      <th>Tweet</th>\n",
       "    </tr>\n",
       "  </thead>\n",
       "  <tbody>\n",
       "    <tr>\n",
       "      <th>0</th>\n",
       "      <td>1338523620075851778</td>\n",
       "      <td>cambia health</td>\n",
       "      <td>excellent piece on s groundbreaking work to ...</td>\n",
       "    </tr>\n",
       "    <tr>\n",
       "      <th>1</th>\n",
       "      <td>1338523619505434625</td>\n",
       "      <td>vape n fan</td>\n",
       "      <td>white house staff members are now reportedly...</td>\n",
       "    </tr>\n",
       "    <tr>\n",
       "      <th>2</th>\n",
       "      <td>1338523619199213576</td>\n",
       "      <td>alexis winter warqueer</td>\n",
       "      <td>huohhhh new vawiant of cowonaviwus identifie...</td>\n",
       "    </tr>\n",
       "    <tr>\n",
       "      <th>3</th>\n",
       "      <td>1338523618976833536</td>\n",
       "      <td>jeannette macgregor</td>\n",
       "      <td>alberta health officials are scheduled to pr...</td>\n",
       "    </tr>\n",
       "    <tr>\n",
       "      <th>4</th>\n",
       "      <td>1338523618624454675</td>\n",
       "      <td>arc</td>\n",
       "      <td>show your girl off its good for their health</td>\n",
       "    </tr>\n",
       "    <tr>\n",
       "      <th>5</th>\n",
       "      <td>1338523617253093376</td>\n",
       "      <td>ptwills</td>\n",
       "      <td>our emergency department at glan clwyd hospi...</td>\n",
       "    </tr>\n",
       "    <tr>\n",
       "      <th>6</th>\n",
       "      <td>1338523617064148994</td>\n",
       "      <td>balbir singh</td>\n",
       "      <td>for all covid complaints about noncompliance...</td>\n",
       "    </tr>\n",
       "    <tr>\n",
       "      <th>7</th>\n",
       "      <td>1338523616682586114</td>\n",
       "      <td>dr pepper code konaa</td>\n",
       "      <td>im teaming up with  and  to give away an emb...</td>\n",
       "    </tr>\n",
       "    <tr>\n",
       "      <th>8</th>\n",
       "      <td>1338523616355495940</td>\n",
       "      <td>raheel</td>\n",
       "      <td>uk informs who after  cases of new covid var...</td>\n",
       "    </tr>\n",
       "    <tr>\n",
       "      <th>9</th>\n",
       "      <td>1338523614849732611</td>\n",
       "      <td>mordechai d rodgold</td>\n",
       "      <td>ashkenazi last weekend i spoke with my collea...</td>\n",
       "    </tr>\n",
       "    <tr>\n",
       "      <th>10</th>\n",
       "      <td>1338523614677790729</td>\n",
       "      <td>dr abigail fcking devereaux</td>\n",
       "      <td>the claim that concerns about the health effe...</td>\n",
       "    </tr>\n",
       "    <tr>\n",
       "      <th>11</th>\n",
       "      <td>1338523613893279746</td>\n",
       "      <td>elyse</td>\n",
       "      <td>minho said he doesnt feed hyunjin tissues th...</td>\n",
       "    </tr>\n",
       "    <tr>\n",
       "      <th>12</th>\n",
       "      <td>1338523613796978690</td>\n",
       "      <td>somd sierra club</td>\n",
       "      <td>watch the local discussion on health clean ...</td>\n",
       "    </tr>\n",
       "    <tr>\n",
       "      <th>13</th>\n",
       "      <td>1338523613331243016</td>\n",
       "      <td>rachel graves</td>\n",
       "      <td>important reminder open enrollment for heal...</td>\n",
       "    </tr>\n",
       "    <tr>\n",
       "      <th>14</th>\n",
       "      <td>1338523612760903681</td>\n",
       "      <td>tchat</td>\n",
       "      <td>is everyone enjoying a little extra major go...</td>\n",
       "    </tr>\n",
       "    <tr>\n",
       "      <th>15</th>\n",
       "      <td>1338523612156981249</td>\n",
       "      <td>weneedamandebeleontv</td>\n",
       "      <td>we must pray for the safety and health of ad...</td>\n",
       "    </tr>\n",
       "    <tr>\n",
       "      <th>16</th>\n",
       "      <td>1338523611808862209</td>\n",
       "      <td>blue georgia voter</td>\n",
       "      <td>dr fauci says americans with no underlyin...</td>\n",
       "    </tr>\n",
       "    <tr>\n",
       "      <th>17</th>\n",
       "      <td>1338523610521059335</td>\n",
       "      <td>firstpost</td>\n",
       "      <td>the fact that gbs incidence  actually fell dur...</td>\n",
       "    </tr>\n",
       "    <tr>\n",
       "      <th>18</th>\n",
       "      <td>1338523609015455753</td>\n",
       "      <td>maggie</td>\n",
       "      <td>this is heartbreaking to see too many of you...</td>\n",
       "    </tr>\n",
       "    <tr>\n",
       "      <th>19</th>\n",
       "      <td>1338523608315027457</td>\n",
       "      <td>spencer</td>\n",
       "      <td>governor the first doses of covid vaccine hav...</td>\n",
       "    </tr>\n",
       "  </tbody>\n",
       "</table>\n",
       "</div>"
      ],
      "text/plain": [
       "                TweetId                    screen_name  \\\n",
       "0   1338523620075851778                  cambia health   \n",
       "1   1338523619505434625                     vape n fan   \n",
       "2   1338523619199213576        alexis winter warqueer    \n",
       "3   1338523618976833536            jeannette macgregor   \n",
       "4   1338523618624454675                            arc   \n",
       "5   1338523617253093376                        ptwills   \n",
       "6   1338523617064148994                   balbir singh   \n",
       "7   1338523616682586114           dr pepper code konaa   \n",
       "8   1338523616355495940                         raheel   \n",
       "9   1338523614849732611            mordechai d rodgold   \n",
       "10  1338523614677790729  dr abigail fcking devereaux     \n",
       "11  1338523613893279746                          elyse   \n",
       "12  1338523613796978690               somd sierra club   \n",
       "13  1338523613331243016                  rachel graves   \n",
       "14  1338523612760903681                         tchat    \n",
       "15  1338523612156981249           weneedamandebeleontv   \n",
       "16  1338523611808862209             blue georgia voter   \n",
       "17  1338523610521059335                      firstpost   \n",
       "18  1338523609015455753                         maggie   \n",
       "19  1338523608315027457                        spencer   \n",
       "\n",
       "                                                Tweet  \n",
       "0     excellent piece on s groundbreaking work to ...  \n",
       "1     white house staff members are now reportedly...  \n",
       "2     huohhhh new vawiant of cowonaviwus identifie...  \n",
       "3     alberta health officials are scheduled to pr...  \n",
       "4        show your girl off its good for their health  \n",
       "5     our emergency department at glan clwyd hospi...  \n",
       "6     for all covid complaints about noncompliance...  \n",
       "7     im teaming up with  and  to give away an emb...  \n",
       "8     uk informs who after  cases of new covid var...  \n",
       "9    ashkenazi last weekend i spoke with my collea...  \n",
       "10   the claim that concerns about the health effe...  \n",
       "11    minho said he doesnt feed hyunjin tissues th...  \n",
       "12     watch the local discussion on health clean ...  \n",
       "13     important reminder open enrollment for heal...  \n",
       "14    is everyone enjoying a little extra major go...  \n",
       "15    we must pray for the safety and health of ad...  \n",
       "16       dr fauci says americans with no underlyin...  \n",
       "17  the fact that gbs incidence  actually fell dur...  \n",
       "18    this is heartbreaking to see too many of you...  \n",
       "19   governor the first doses of covid vaccine hav...  "
      ]
     },
     "execution_count": 21,
     "metadata": {},
     "output_type": "execute_result"
    }
   ],
   "source": [
    "def clean_text(df, text ,name):\n",
    "    df[name] = df[name].str.lower()\n",
    "    df[name] = df[name].apply(lambda elem: re.sub(r\"(@[A-Za-z0-9]+)|([^0-9A-Za-z \\t])|(\\w+:\\/\\/\\S+)|^rt|http.+?|([0-9])\", \"\", elem))\n",
    "    df[text] = df[text].str.lower()\n",
    "    df[text]= df[text].apply(lambda elem: re.sub(r\"(@[A-Za-z0-9]+)|([^0-9A-Za-z \\t])|(\\w+:\\/\\/\\S+)|^rt|http.+?|([0-9])\", \"\", elem))\n",
    "    return df\n",
    "\n",
    "clean_tweets = clean_text(tweet,'Tweet','screen_name')\n",
    "clean_tweets.head(20)"
   ]
  },
  {
   "cell_type": "code",
   "execution_count": 22,
   "metadata": {},
   "outputs": [],
   "source": [
    "clean_tweets.to_csv('TweetClean.csv')"
   ]
  },
  {
   "cell_type": "code",
   "execution_count": 23,
   "metadata": {},
   "outputs": [],
   "source": [
    "tweetclean = pd.read_csv('TweetClean.csv')"
   ]
  },
  {
   "cell_type": "code",
   "execution_count": 24,
   "metadata": {},
   "outputs": [
    {
     "data": {
      "text/html": [
       "<div>\n",
       "<style scoped>\n",
       "    .dataframe tbody tr th:only-of-type {\n",
       "        vertical-align: middle;\n",
       "    }\n",
       "\n",
       "    .dataframe tbody tr th {\n",
       "        vertical-align: top;\n",
       "    }\n",
       "\n",
       "    .dataframe thead th {\n",
       "        text-align: right;\n",
       "    }\n",
       "</style>\n",
       "<table border=\"1\" class=\"dataframe\">\n",
       "  <thead>\n",
       "    <tr style=\"text-align: right;\">\n",
       "      <th></th>\n",
       "      <th>Unnamed: 0</th>\n",
       "      <th>TweetId</th>\n",
       "      <th>screen_name</th>\n",
       "      <th>Tweet</th>\n",
       "    </tr>\n",
       "  </thead>\n",
       "  <tbody>\n",
       "    <tr>\n",
       "      <th>0</th>\n",
       "      <td>0</td>\n",
       "      <td>1338523620075851778</td>\n",
       "      <td>cambia health</td>\n",
       "      <td>excellent piece on s groundbreaking work to ...</td>\n",
       "    </tr>\n",
       "    <tr>\n",
       "      <th>1</th>\n",
       "      <td>1</td>\n",
       "      <td>1338523619505434625</td>\n",
       "      <td>vape n fan</td>\n",
       "      <td>white house staff members are now reportedly...</td>\n",
       "    </tr>\n",
       "    <tr>\n",
       "      <th>2</th>\n",
       "      <td>2</td>\n",
       "      <td>1338523619199213576</td>\n",
       "      <td>alexis winter warqueer</td>\n",
       "      <td>huohhhh new vawiant of cowonaviwus identifie...</td>\n",
       "    </tr>\n",
       "    <tr>\n",
       "      <th>3</th>\n",
       "      <td>3</td>\n",
       "      <td>1338523618976833536</td>\n",
       "      <td>jeannette macgregor</td>\n",
       "      <td>alberta health officials are scheduled to pr...</td>\n",
       "    </tr>\n",
       "    <tr>\n",
       "      <th>4</th>\n",
       "      <td>4</td>\n",
       "      <td>1338523618624454675</td>\n",
       "      <td>arc</td>\n",
       "      <td>show your girl off its good for their health</td>\n",
       "    </tr>\n",
       "    <tr>\n",
       "      <th>...</th>\n",
       "      <td>...</td>\n",
       "      <td>...</td>\n",
       "      <td>...</td>\n",
       "      <td>...</td>\n",
       "    </tr>\n",
       "    <tr>\n",
       "      <th>9096</th>\n",
       "      <td>9096</td>\n",
       "      <td>1338524985187512331</td>\n",
       "      <td>new mexico history museum</td>\n",
       "      <td>so much incredible history and culture to le...</td>\n",
       "    </tr>\n",
       "    <tr>\n",
       "      <th>9097</th>\n",
       "      <td>9097</td>\n",
       "      <td>1338524984478732288</td>\n",
       "      <td>sam johnson</td>\n",
       "      <td>so grateful to have joined this dynamic team l...</td>\n",
       "    </tr>\n",
       "    <tr>\n",
       "      <th>9098</th>\n",
       "      <td>9098</td>\n",
       "      <td>1338524982952030208</td>\n",
       "      <td>crouchin on the outside</td>\n",
       "      <td>ive said it before and ill say it again if you...</td>\n",
       "    </tr>\n",
       "    <tr>\n",
       "      <th>9099</th>\n",
       "      <td>9099</td>\n",
       "      <td>1338524979089043461</td>\n",
       "      <td>everyvotematters</td>\n",
       "      <td>dropping the use of human beings as mascots...</td>\n",
       "    </tr>\n",
       "    <tr>\n",
       "      <th>9100</th>\n",
       "      <td>9100</td>\n",
       "      <td>1338524977352429569</td>\n",
       "      <td>bkcmcgin</td>\n",
       "      <td>culture some is just better than others unfor...</td>\n",
       "    </tr>\n",
       "  </tbody>\n",
       "</table>\n",
       "<p>9101 rows × 4 columns</p>\n",
       "</div>"
      ],
      "text/plain": [
       "      Unnamed: 0              TweetId                screen_name  \\\n",
       "0              0  1338523620075851778              cambia health   \n",
       "1              1  1338523619505434625                 vape n fan   \n",
       "2              2  1338523619199213576    alexis winter warqueer    \n",
       "3              3  1338523618976833536        jeannette macgregor   \n",
       "4              4  1338523618624454675                        arc   \n",
       "...          ...                  ...                        ...   \n",
       "9096        9096  1338524985187512331  new mexico history museum   \n",
       "9097        9097  1338524984478732288                sam johnson   \n",
       "9098        9098  1338524982952030208    crouchin on the outside   \n",
       "9099        9099  1338524979089043461           everyvotematters   \n",
       "9100        9100  1338524977352429569                   bkcmcgin   \n",
       "\n",
       "                                                  Tweet  \n",
       "0       excellent piece on s groundbreaking work to ...  \n",
       "1       white house staff members are now reportedly...  \n",
       "2       huohhhh new vawiant of cowonaviwus identifie...  \n",
       "3       alberta health officials are scheduled to pr...  \n",
       "4          show your girl off its good for their health  \n",
       "...                                                 ...  \n",
       "9096    so much incredible history and culture to le...  \n",
       "9097  so grateful to have joined this dynamic team l...  \n",
       "9098  ive said it before and ill say it again if you...  \n",
       "9099     dropping the use of human beings as mascots...  \n",
       "9100   culture some is just better than others unfor...  \n",
       "\n",
       "[9101 rows x 4 columns]"
      ]
     },
     "execution_count": 24,
     "metadata": {},
     "output_type": "execute_result"
    }
   ],
   "source": [
    "tweetclean"
   ]
  },
  {
   "cell_type": "code",
   "execution_count": 25,
   "metadata": {},
   "outputs": [],
   "source": [
    "toclean = pd.read_csv('TweetClean.csv')\n",
    "deduped = toclean.drop_duplicates(['screen_name','Tweet'])\n",
    "deduped.to_csv('Tweetfinal.csv')"
   ]
  },
  {
   "cell_type": "code",
   "execution_count": 26,
   "metadata": {},
   "outputs": [],
   "source": [
    "tweet = pd.read_csv('Tweetfinal.csv')"
   ]
  },
  {
   "cell_type": "code",
   "execution_count": 27,
   "metadata": {},
   "outputs": [],
   "source": [
    "\n",
    "#remove stopwords, punctuations, lemmatize and tokenize word\n",
    "# nlp = spacy.load(\"en_core_web_sm\")   #working with english only, no support for swahili\n",
    "nlp = en_core_web_sm.load()\n",
    "tokenizer = RegexpTokenizer(r'\\w+')\n",
    "lemmatizer = WordNetLemmatizer()\n",
    "stop = set(stopwords.words('english'))\n",
    "punctuation = list(string.punctuation) #already taken care of with the cleaning function.\n",
    "stop.update(punctuation)\n",
    "w_tokenizer = WhitespaceTokenizer()\n",
    "\n",
    "            \n",
    "def furnished(text):\n",
    "    final_text = []\n",
    "    for i in w_tokenizer.tokenize(text):\n",
    "#     for i in text.split():\n",
    "        if i.lower() not in stop:\n",
    "            word = lemmatizer.lemmatize(i)\n",
    "            final_text.append(word.lower())\n",
    "    return \" \".join(final_text)\n",
    "\n",
    "\n",
    "            \n",
    "tweet.Tweet = tweet.Tweet.apply(furnished)"
   ]
  },
  {
   "cell_type": "code",
   "execution_count": 28,
   "metadata": {},
   "outputs": [
    {
     "data": {
      "text/html": [
       "<div>\n",
       "<style scoped>\n",
       "    .dataframe tbody tr th:only-of-type {\n",
       "        vertical-align: middle;\n",
       "    }\n",
       "\n",
       "    .dataframe tbody tr th {\n",
       "        vertical-align: top;\n",
       "    }\n",
       "\n",
       "    .dataframe thead th {\n",
       "        text-align: right;\n",
       "    }\n",
       "</style>\n",
       "<table border=\"1\" class=\"dataframe\">\n",
       "  <thead>\n",
       "    <tr style=\"text-align: right;\">\n",
       "      <th></th>\n",
       "      <th>Unnamed: 0</th>\n",
       "      <th>Unnamed: 0.1</th>\n",
       "      <th>TweetId</th>\n",
       "      <th>screen_name</th>\n",
       "      <th>Tweet</th>\n",
       "    </tr>\n",
       "  </thead>\n",
       "  <tbody>\n",
       "    <tr>\n",
       "      <th>0</th>\n",
       "      <td>0</td>\n",
       "      <td>0</td>\n",
       "      <td>1338523620075851778</td>\n",
       "      <td>cambia health</td>\n",
       "      <td>excellent piece groundbreaking work deliver he...</td>\n",
       "    </tr>\n",
       "    <tr>\n",
       "      <th>1</th>\n",
       "      <td>1</td>\n",
       "      <td>1</td>\n",
       "      <td>1338523619505434625</td>\n",
       "      <td>vape n fan</td>\n",
       "      <td>white house staff member reportedly stepping o...</td>\n",
       "    </tr>\n",
       "    <tr>\n",
       "      <th>2</th>\n",
       "      <td>2</td>\n",
       "      <td>2</td>\n",
       "      <td>1338523619199213576</td>\n",
       "      <td>alexis winter warqueer</td>\n",
       "      <td>huohhhh new vawiant cowonaviwus identified may...</td>\n",
       "    </tr>\n",
       "    <tr>\n",
       "      <th>3</th>\n",
       "      <td>3</td>\n",
       "      <td>3</td>\n",
       "      <td>1338523618976833536</td>\n",
       "      <td>jeannette macgregor</td>\n",
       "      <td>alberta health official scheduled provide upda...</td>\n",
       "    </tr>\n",
       "    <tr>\n",
       "      <th>4</th>\n",
       "      <td>4</td>\n",
       "      <td>4</td>\n",
       "      <td>1338523618624454675</td>\n",
       "      <td>arc</td>\n",
       "      <td>show girl good health</td>\n",
       "    </tr>\n",
       "    <tr>\n",
       "      <th>...</th>\n",
       "      <td>...</td>\n",
       "      <td>...</td>\n",
       "      <td>...</td>\n",
       "      <td>...</td>\n",
       "      <td>...</td>\n",
       "    </tr>\n",
       "    <tr>\n",
       "      <th>8972</th>\n",
       "      <td>9096</td>\n",
       "      <td>9096</td>\n",
       "      <td>1338524985187512331</td>\n",
       "      <td>new mexico history museum</td>\n",
       "      <td>much incredible history culture learn chaco ca...</td>\n",
       "    </tr>\n",
       "    <tr>\n",
       "      <th>8973</th>\n",
       "      <td>9097</td>\n",
       "      <td>9097</td>\n",
       "      <td>1338524984478732288</td>\n",
       "      <td>sam johnson</td>\n",
       "      <td>grateful joined dynamic team led anchore</td>\n",
       "    </tr>\n",
       "    <tr>\n",
       "      <th>8974</th>\n",
       "      <td>9098</td>\n",
       "      <td>9098</td>\n",
       "      <td>1338524982952030208</td>\n",
       "      <td>crouchin on the outside</td>\n",
       "      <td>ive said ill say infant toddler go daycare ple...</td>\n",
       "    </tr>\n",
       "    <tr>\n",
       "      <th>8975</th>\n",
       "      <td>9099</td>\n",
       "      <td>9099</td>\n",
       "      <td>1338524979089043461</td>\n",
       "      <td>everyvotematters</td>\n",
       "      <td>dropping use human being mascot particular nat...</td>\n",
       "    </tr>\n",
       "    <tr>\n",
       "      <th>8976</th>\n",
       "      <td>9100</td>\n",
       "      <td>9100</td>\n",
       "      <td>1338524977352429569</td>\n",
       "      <td>bkcmcgin</td>\n",
       "      <td>culture better others unfortunately conflict c...</td>\n",
       "    </tr>\n",
       "  </tbody>\n",
       "</table>\n",
       "<p>8977 rows × 5 columns</p>\n",
       "</div>"
      ],
      "text/plain": [
       "      Unnamed: 0  Unnamed: 0.1              TweetId  \\\n",
       "0              0             0  1338523620075851778   \n",
       "1              1             1  1338523619505434625   \n",
       "2              2             2  1338523619199213576   \n",
       "3              3             3  1338523618976833536   \n",
       "4              4             4  1338523618624454675   \n",
       "...          ...           ...                  ...   \n",
       "8972        9096          9096  1338524985187512331   \n",
       "8973        9097          9097  1338524984478732288   \n",
       "8974        9098          9098  1338524982952030208   \n",
       "8975        9099          9099  1338524979089043461   \n",
       "8976        9100          9100  1338524977352429569   \n",
       "\n",
       "                    screen_name  \\\n",
       "0                 cambia health   \n",
       "1                    vape n fan   \n",
       "2       alexis winter warqueer    \n",
       "3           jeannette macgregor   \n",
       "4                           arc   \n",
       "...                         ...   \n",
       "8972  new mexico history museum   \n",
       "8973                sam johnson   \n",
       "8974    crouchin on the outside   \n",
       "8975           everyvotematters   \n",
       "8976                   bkcmcgin   \n",
       "\n",
       "                                                  Tweet  \n",
       "0     excellent piece groundbreaking work deliver he...  \n",
       "1     white house staff member reportedly stepping o...  \n",
       "2     huohhhh new vawiant cowonaviwus identified may...  \n",
       "3     alberta health official scheduled provide upda...  \n",
       "4                                 show girl good health  \n",
       "...                                                 ...  \n",
       "8972  much incredible history culture learn chaco ca...  \n",
       "8973           grateful joined dynamic team led anchore  \n",
       "8974  ive said ill say infant toddler go daycare ple...  \n",
       "8975  dropping use human being mascot particular nat...  \n",
       "8976  culture better others unfortunately conflict c...  \n",
       "\n",
       "[8977 rows x 5 columns]"
      ]
     },
     "execution_count": 28,
     "metadata": {},
     "output_type": "execute_result"
    }
   ],
   "source": [
    "tweet"
   ]
  },
  {
   "cell_type": "markdown",
   "metadata": {},
   "source": [
    "# Defining the set of words"
   ]
  },
  {
   "cell_type": "code",
   "execution_count": 40,
   "metadata": {},
   "outputs": [],
   "source": [
    "economy_related_words = '''agriculture infrastructure capitalism trading service sector technology  economical supply \n",
    "                          industrialism efficiency frugality retrenchment downsizing   credit debit value \n",
    "                         economize   save  economically\n",
    "                         economies sluggish rise   rising spending conserve trend \n",
    "                         low-management  decline   industry impact poor  \n",
    "                            profession    surplus   fall\n",
    "                         declining  accelerating interest sectors balance stability productivity increase rates\n",
    "                            pushing expanding stabilize  rate industrial borrowing struggling\n",
    "                           deficit predicted    increasing  data\n",
    "                          economizer analysts investment market-based economy   debt free enterprise\n",
    "                         medium  exchange metric savepoint scarcity capital bank company stockholder fund business  \n",
    "                         asset treasury tourism incomes contraction employment jobs upturn deflation  macroeconomics\n",
    "                         bankruptcies exporters hyperinflation dollar entrepreneurship upswing marketplace commerce devaluation \n",
    "                         quicksave deindustrialization stockmarket reflation downspin dollarization withholder bankroll venture capital\n",
    "                         mutual fund plan economy mortgage lender unemployment rate credit crunch central bank financial institution\n",
    "                         bank rate custom duties mass-production black-market developing-countries developing economic-growth gdp trade barter \n",
    "                         distribution downturn economist'''"
   ]
  },
  {
   "cell_type": "code",
   "execution_count": 38,
   "metadata": {},
   "outputs": [],
   "source": [
    "social_related_words = '''sociable, gregarious societal friendly society socialization political  sociality \n",
    "                        interpersonal  ethnic socially party welfare public community socialist societies development\n",
    "                            network humans socialism collective personal corporation social constructivism\n",
    "                        relations volition citizenship brute   attitude rights socio \n",
    "                        socioeconomic ethics civic communal marital  sociale socialized communities     \n",
    "                         policy   unions        \n",
    "                        institutions values     governmental   organizations jamboree \n",
    "                         festivity    fairness  support  care  \n",
    "                         sides   activism     unsocial psychosocial \n",
    "                        socializing psychological distributional  demographic  participation reunion \n",
    "                        partygoer partyism festive power network gala housewarming celebration counterparty   social-war\n",
    "                        particularist interactional ideational asocial'''"
   ]
  },
  {
   "cell_type": "code",
   "execution_count": 43,
   "metadata": {},
   "outputs": [],
   "source": [
    "culture_related_words  = ''' ethnicity heritage modernity spirituality marxismmaterial culture \n",
    "                           ethos nationality humanism romanticism civilisation traditionalism genetics\n",
    "                        kinship heredity marriage   indigenous  archeology  acculturate  \n",
    "                       ontogenesis viniculture modern clothes     rooted \n",
    "                       cicero societies history roots influence geography historical folk origins \n",
    "                       phenomenon teleology ancient aspects perspective liberalism nowadays community style unique prevalent describes \n",
    "                         today  origin   modernity beliefs  genre barbarian ethnic \n",
    "                       colonization cultural universal organization western-civilization structuralism  culture \n",
    "                       heathen pagan transculturation culture peasant classicist nativism anarchy ungrown philosophic cult  \n",
    "                       consciousness islamist bro-culture evolve cultic diaspora aftergrowth native cultural-relativism  \n",
    "                       mongolian cosmopolitan epistemology lifestyles diversity chauvinism westernization materialism vernacular \n",
    "                       homogeneity otherness holism tusculanae disputationes primitivism superficiality hedonism discourse\n",
    "                       puritanism modernism intellectualism  exclusiveness elitism  colonialism  \n",
    "                       pentecostalism paganism nationwide expansion rural  auxesis kimono \n",
    "                       culturize alethophobia nettlebed japanification  dongyi clannishness insularity hybridity\n",
    "                       westernisation foreignness worldview exclusionism enculturation ethnocentrism  confucianist vulgarization\n",
    "                       shintoism  westernism denominationalism    deracination\n",
    "                        eurocentrism  cosmologies  emotiveness bohemianism territorialism\n",
    "                       philosophical-doctrine ethnic minority social-darwinism  theory cultural evolution belief systemfolk music \n",
    "                       traditional art house karl-marx   theorymedia  \n",
    "                       film-theory art history museum studies cultural artifact'''"
   ]
  },
  {
   "cell_type": "code",
   "execution_count": 39,
   "metadata": {},
   "outputs": [],
   "source": [
    "health_related_words = '''disease obesity world health organization medicine nutrition well-being exercise welfare wellness health care public health \n",
    "                     nursing stress safety hygiene research social healthy condition aids epidemiology healthiness wellbeing\n",
    "                     care illness medical dieteducation infectious disease environmental healthcare physical fitness hospitals \n",
    "                     health care provider doctors healthy community design insurance sanitation human body patient mental health\n",
    "                      medicare agriculture health science fitnesshealth policy  weight loss physical therapy psychology pharmacy\n",
    "                     metabolic organism human lifestyle status unhealthy upbeat vaccination sleep condom alcohol smoking water family\n",
    "                     eudaimonia eudaemonia air house prevention genetics public families poor needs treatment communicable disease \n",
    "                     study protection malaria development food priority management healthful mental provide department administration\n",
    "                     programs help assistance funding environment improving emergency need program affected schools private mental illness \n",
    "                     treat diseases preparedness perinatal fertility sickness veterinary sanitary pharmacists behavioral midwives\n",
    "                     gerontology infertility hospitalization midwifery cholesterol childcare pediatrician pediatrics medicaid asthma \n",
    "                     pensions sicknesses push-up physical education body-mass-index eat well gymnastic apparatus tune up good morning \n",
    "                     bathing low blood-pressure heart attack health club ride-bike you feel good eczema urticaria dermatitis sunburn overwork \n",
    "                     manufacturing medical sociology need exercise run'''"
   ]
  },
  {
   "cell_type": "markdown",
   "metadata": {},
   "source": [
    "# Preprocessing the sets.\n",
    "###  Tokenizing and removing stop words from the sets."
   ]
  },
  {
   "cell_type": "code",
   "execution_count": 23,
   "metadata": {},
   "outputs": [
    {
     "name": "stdout",
     "output_type": "stream",
     "text": [
      "Requirement already satisfied: spacy in c:\\users\\maryem gmach\\anaconda3\\lib\\site-packages (2.3.5)\n",
      "Requirement already satisfied: cymem<2.1.0,>=2.0.2 in c:\\users\\maryem gmach\\anaconda3\\lib\\site-packages (from spacy) (2.0.5)\n",
      "Requirement already satisfied: blis<0.8.0,>=0.4.0 in c:\\users\\maryem gmach\\anaconda3\\lib\\site-packages (from spacy) (0.7.4)\n",
      "Requirement already satisfied: thinc<7.5.0,>=7.4.1 in c:\\users\\maryem gmach\\anaconda3\\lib\\site-packages (from spacy) (7.4.4)\n",
      "Requirement already satisfied: requests<3.0.0,>=2.13.0 in c:\\users\\maryem gmach\\anaconda3\\lib\\site-packages (from spacy) (2.24.0)\n",
      "Requirement already satisfied: murmurhash<1.1.0,>=0.28.0 in c:\\users\\maryem gmach\\anaconda3\\lib\\site-packages (from spacy) (1.0.5)\n",
      "Requirement already satisfied: srsly<1.1.0,>=1.0.2 in c:\\users\\maryem gmach\\anaconda3\\lib\\site-packages (from spacy) (1.0.5)\n",
      "Requirement already satisfied: setuptools in c:\\users\\maryem gmach\\anaconda3\\lib\\site-packages (from spacy) (49.2.0.post20200714)\n",
      "Requirement already satisfied: preshed<3.1.0,>=3.0.2 in c:\\users\\maryem gmach\\anaconda3\\lib\\site-packages (from spacy) (3.0.5)\n",
      "Requirement already satisfied: numpy>=1.15.0 in c:\\users\\maryem gmach\\anaconda3\\lib\\site-packages (from spacy) (1.18.5)\n",
      "Requirement already satisfied: catalogue<1.1.0,>=0.0.7 in c:\\users\\maryem gmach\\anaconda3\\lib\\site-packages (from spacy) (1.0.0)\n",
      "Requirement already satisfied: plac<1.2.0,>=0.9.6 in c:\\users\\maryem gmach\\anaconda3\\lib\\site-packages (from spacy) (1.1.3)\n",
      "Requirement already satisfied: wasabi<1.1.0,>=0.4.0 in c:\\users\\maryem gmach\\anaconda3\\lib\\site-packages (from spacy) (0.8.0)\n",
      "Requirement already satisfied: tqdm<5.0.0,>=4.38.0 in c:\\users\\maryem gmach\\anaconda3\\lib\\site-packages (from spacy) (4.47.0)\n",
      "Requirement already satisfied: numpy>=1.15.0 in c:\\users\\maryem gmach\\anaconda3\\lib\\site-packages (from spacy) (1.18.5)\n",
      "Requirement already satisfied: cymem<2.1.0,>=2.0.2 in c:\\users\\maryem gmach\\anaconda3\\lib\\site-packages (from spacy) (2.0.5)\n",
      "Requirement already satisfied: murmurhash<1.1.0,>=0.28.0 in c:\\users\\maryem gmach\\anaconda3\\lib\\site-packages (from spacy) (1.0.5)\n",
      "Requirement already satisfied: idna<3,>=2.5 in c:\\users\\maryem gmach\\anaconda3\\lib\\site-packages (from requests<3.0.0,>=2.13.0->spacy) (2.10)\n",
      "Requirement already satisfied: chardet<4,>=3.0.2 in c:\\users\\maryem gmach\\anaconda3\\lib\\site-packages (from requests<3.0.0,>=2.13.0->spacy) (3.0.4)\n",
      "Requirement already satisfied: urllib3!=1.25.0,!=1.25.1,<1.26,>=1.21.1 in c:\\users\\maryem gmach\\anaconda3\\lib\\site-packages (from requests<3.0.0,>=2.13.0->spacy) (1.25.9)\n",
      "Requirement already satisfied: certifi>=2017.4.17 in c:\\users\\maryem gmach\\anaconda3\\lib\\site-packages (from requests<3.0.0,>=2.13.0->spacy) (2020.6.20)\n",
      "Requirement already satisfied: wasabi<1.1.0,>=0.4.0 in c:\\users\\maryem gmach\\anaconda3\\lib\\site-packages (from spacy) (0.8.0)\n",
      "Requirement already satisfied: cymem<2.1.0,>=2.0.2 in c:\\users\\maryem gmach\\anaconda3\\lib\\site-packages (from spacy) (2.0.5)\n",
      "Requirement already satisfied: blis<0.8.0,>=0.4.0 in c:\\users\\maryem gmach\\anaconda3\\lib\\site-packages (from spacy) (0.7.4)\n",
      "Requirement already satisfied: srsly<1.1.0,>=1.0.2 in c:\\users\\maryem gmach\\anaconda3\\lib\\site-packages (from spacy) (1.0.5)\n",
      "Requirement already satisfied: tqdm<5.0.0,>=4.38.0 in c:\\users\\maryem gmach\\anaconda3\\lib\\site-packages (from spacy) (4.47.0)\n",
      "Requirement already satisfied: murmurhash<1.1.0,>=0.28.0 in c:\\users\\maryem gmach\\anaconda3\\lib\\site-packages (from spacy) (1.0.5)\n",
      "Requirement already satisfied: preshed<3.1.0,>=3.0.2 in c:\\users\\maryem gmach\\anaconda3\\lib\\site-packages (from spacy) (3.0.5)\n",
      "Requirement already satisfied: numpy>=1.15.0 in c:\\users\\maryem gmach\\anaconda3\\lib\\site-packages (from spacy) (1.18.5)\n",
      "Requirement already satisfied: catalogue<1.1.0,>=0.0.7 in c:\\users\\maryem gmach\\anaconda3\\lib\\site-packages (from spacy) (1.0.0)\n",
      "Requirement already satisfied: plac<1.2.0,>=0.9.6 in c:\\users\\maryem gmach\\anaconda3\\lib\\site-packages (from spacy) (1.1.3)\n"
     ]
    },
    {
     "name": "stderr",
     "output_type": "stream",
     "text": [
      "Python est introuvable. Exécutez sans argument pour procéder à l\n"
     ]
    }
   ],
   "source": [
    "!pip3 install -U spacy\n",
    "!python3 -m spacy download en_core_web_sm"
   ]
  },
  {
   "cell_type": "code",
   "execution_count": 44,
   "metadata": {},
   "outputs": [],
   "source": [
    "nlp = en_core_web_sm.load()\n",
    "tokenizer = RegexpTokenizer(r'\\w+')\n",
    "lemmatizer = WordNetLemmatizer()\n",
    "stop = set(stopwords.words('english'))\n",
    "punctuation = list(string.punctuation)\n",
    "stop.update(punctuation)\n",
    "w_tokenizer = WhitespaceTokenizer()\n",
    "\n",
    "# clean the set of words\n",
    "            \n",
    "def furnished(text):\n",
    "    final_text = []\n",
    "    for i in text.split():\n",
    "        if i.lower() not in stop:\n",
    "            word = lemmatizer.lemmatize(i)\n",
    "            final_text.append(word.lower())\n",
    "    return \" \".join(final_text)"
   ]
  },
  {
   "cell_type": "code",
   "execution_count": 45,
   "metadata": {},
   "outputs": [],
   "source": [
    "economy = furnished(economy_related_words)\n",
    "social = furnished(social_related_words)\n",
    "culture = furnished(culture_related_words)\n",
    "health = furnished(health_related_words)"
   ]
  },
  {
   "cell_type": "markdown",
   "metadata": {},
   "source": [
    "### delete duplicates"
   ]
  },
  {
   "cell_type": "code",
   "execution_count": 46,
   "metadata": {},
   "outputs": [
    {
     "data": {
      "text/plain": [
       "'agriculture infrastructure capitalism trading service sector technology economical supply industrialism efficiency frugality retrenchment downsizing credit debit value economize save economically economy sluggish rise rising spending conserve trend low-management decline industry impact poor profession surplus fall declining accelerating interest balance stability productivity increase rate pushing expanding stabilize industrial borrowing struggling deficit predicted increasing data economizer analyst investment market-based debt free enterprise medium exchange metric savepoint scarcity capital bank company stockholder fund business asset treasury tourism income contraction employment job upturn deflation macroeconomics bankruptcy exporter hyperinflation dollar entrepreneurship upswing marketplace commerce devaluation quicksave deindustrialization stockmarket reflation downspin dollarization withholder bankroll venture mutual plan mortgage lender unemployment crunch central financial institution custom duty mass-production black-market developing-countries developing economic-growth gdp trade barter distribution downturn economist'"
      ]
     },
     "execution_count": 46,
     "metadata": {},
     "output_type": "execute_result"
    }
   ],
   "source": [
    "string1 = economy\n",
    "words = string1.split()\n",
    "economy = \" \".join(sorted(set(words), key=words.index))\n",
    "economy"
   ]
  },
  {
   "cell_type": "code",
   "execution_count": 47,
   "metadata": {},
   "outputs": [
    {
     "data": {
      "text/plain": [
       "'sociable, gregarious societal friendly society socialization political sociality interpersonal ethnic socially party welfare public community socialist development network human socialism collective personal corporation social constructivism relation volition citizenship brute attitude right socio socioeconomic ethic civic communal marital sociale socialized policy union institution value governmental organization jamboree festivity fairness support care side activism unsocial psychosocial socializing psychological distributional demographic participation reunion partygoer partyism festive power gala housewarming celebration counterparty social-war particularist interactional ideational asocial'"
      ]
     },
     "execution_count": 47,
     "metadata": {},
     "output_type": "execute_result"
    }
   ],
   "source": [
    "string1 = social\n",
    "words = string1.split()\n",
    "social = \" \".join(sorted(set(words), key=words.index))\n",
    "social"
   ]
  },
  {
   "cell_type": "code",
   "execution_count": 48,
   "metadata": {},
   "outputs": [
    {
     "data": {
      "text/plain": [
       "'ethnicity heritage modernity spirituality marxismmaterial culture ethos nationality humanism romanticism civilisation traditionalism genetics kinship heredity marriage indigenous archeology acculturate ontogenesis viniculture modern clothes rooted cicero society history root influence geography historical folk origin phenomenon teleology ancient aspect perspective liberalism nowadays community style unique prevalent describes today belief genre barbarian ethnic colonization cultural universal organization western-civilization structuralism heathen pagan transculturation peasant classicist nativism anarchy ungrown philosophic cult consciousness islamist bro-culture evolve cultic diaspora aftergrowth native cultural-relativism mongolian cosmopolitan epistemology lifestyle diversity chauvinism westernization materialism vernacular homogeneity otherness holism tusculanae disputationes primitivism superficiality hedonism discourse puritanism modernism intellectualism exclusiveness elitism colonialism pentecostalism paganism nationwide expansion rural auxesis kimono culturize alethophobia nettlebed japanification dongyi clannishness insularity hybridity westernisation foreignness worldview exclusionism enculturation ethnocentrism confucianist vulgarization shintoism westernism denominationalism deracination eurocentrism cosmology emotiveness bohemianism territorialism philosophical-doctrine minority social-darwinism theory evolution systemfolk music traditional art house karl-marx theorymedia film-theory museum study artifact'"
      ]
     },
     "execution_count": 48,
     "metadata": {},
     "output_type": "execute_result"
    }
   ],
   "source": [
    "string1 = culture\n",
    "words = string1.split()\n",
    "culture = \" \".join(sorted(set(words), key=words.index))\n",
    "culture"
   ]
  },
  {
   "cell_type": "code",
   "execution_count": 49,
   "metadata": {},
   "outputs": [
    {
     "data": {
      "text/plain": [
       "'disease obesity world health organization medicine nutrition well-being exercise welfare wellness care public nursing stress safety hygiene research social healthy condition aid epidemiology healthiness wellbeing illness medical dieteducation infectious environmental healthcare physical fitness hospital provider doctor community design insurance sanitation human body patient mental medicare agriculture science fitnesshealth policy weight loss therapy psychology pharmacy metabolic organism lifestyle status unhealthy upbeat vaccination sleep condom alcohol smoking water family eudaimonia eudaemonia air house prevention genetics poor need treatment communicable study protection malaria development food priority management healthful provide department administration program help assistance funding environment improving emergency affected school private treat preparedness perinatal fertility sickness veterinary sanitary pharmacist behavioral midwife gerontology infertility hospitalization midwifery cholesterol childcare pediatrician pediatrics medicaid asthma pension push-up education body-mass-index eat well gymnastic apparatus tune good morning bathing low blood-pressure heart attack club ride-bike feel eczema urticaria dermatitis sunburn overwork manufacturing sociology run'"
      ]
     },
     "execution_count": 49,
     "metadata": {},
     "output_type": "execute_result"
    }
   ],
   "source": [
    "string1 = health\n",
    "words = string1.split()\n",
    "health = \" \".join(sorted(set(words), key=words.index))\n",
    "health"
   ]
  },
  {
   "cell_type": "markdown",
   "metadata": {},
   "source": [
    "# Vectorizing and Standadization"
   ]
  },
  {
   "cell_type": "code",
   "execution_count": 50,
   "metadata": {},
   "outputs": [],
   "source": [
    "'''Vectorizing the sets of words, then standardizing them. TFIDF will be used in order to take care of the least \n",
    "frequent words. Standardizing is cause TFIDF favors long sentences and there'll be inconsistencies between the length \n",
    "of the tweets and the length of set of words.'''\n",
    "\n",
    "\n",
    "def get_vectors(*strs):\n",
    "    text = [t for t in strs]\n",
    "    vectorizer = TfidfVectorizer(text)\n",
    "    vectorizer.fit(text)\n",
    "    return vectorizer.transform(text).toarray()"
   ]
  },
  {
   "cell_type": "code",
   "execution_count": 51,
   "metadata": {},
   "outputs": [
    {
     "name": "stderr",
     "output_type": "stream",
     "text": [
      "C:\\Users\\maryem gmach\\anaconda3\\lib\\site-packages\\sklearn\\utils\\validation.py:68: FutureWarning: Pass input=['sociable, gregarious societal friendly society socialization political sociality interpersonal ethnic socially party welfare public community socialist development network human socialism collective personal corporation social constructivism relation volition citizenship brute attitude right socio socioeconomic ethic civic communal marital sociale socialized policy union institution value governmental organization jamboree festivity fairness support care side activism unsocial psychosocial socializing psychological distributional demographic participation reunion partygoer partyism festive power gala housewarming celebration counterparty social-war particularist interactional ideational asocial'] as keyword args. From version 0.25 passing these as positional arguments will result in an error\n",
      "  warnings.warn(\"Pass {} as keyword args. From version 0.25 \"\n",
      "C:\\Users\\maryem gmach\\anaconda3\\lib\\site-packages\\sklearn\\utils\\validation.py:68: FutureWarning: Pass input=['agriculture infrastructure capitalism trading service sector technology economical supply industrialism efficiency frugality retrenchment downsizing credit debit value economize save economically economy sluggish rise rising spending conserve trend low-management decline industry impact poor profession surplus fall declining accelerating interest balance stability productivity increase rate pushing expanding stabilize industrial borrowing struggling deficit predicted increasing data economizer analyst investment market-based debt free enterprise medium exchange metric savepoint scarcity capital bank company stockholder fund business asset treasury tourism income contraction employment job upturn deflation macroeconomics bankruptcy exporter hyperinflation dollar entrepreneurship upswing marketplace commerce devaluation quicksave deindustrialization stockmarket reflation downspin dollarization withholder bankroll venture mutual plan mortgage lender unemployment crunch central financial institution custom duty mass-production black-market developing-countries developing economic-growth gdp trade barter distribution downturn economist'] as keyword args. From version 0.25 passing these as positional arguments will result in an error\n",
      "  warnings.warn(\"Pass {} as keyword args. From version 0.25 \"\n",
      "C:\\Users\\maryem gmach\\anaconda3\\lib\\site-packages\\sklearn\\utils\\validation.py:68: FutureWarning: Pass input=['ethnicity heritage modernity spirituality marxismmaterial culture ethos nationality humanism romanticism civilisation traditionalism genetics kinship heredity marriage indigenous archeology acculturate ontogenesis viniculture modern clothes rooted cicero society history root influence geography historical folk origin phenomenon teleology ancient aspect perspective liberalism nowadays community style unique prevalent describes today belief genre barbarian ethnic colonization cultural universal organization western-civilization structuralism heathen pagan transculturation peasant classicist nativism anarchy ungrown philosophic cult consciousness islamist bro-culture evolve cultic diaspora aftergrowth native cultural-relativism mongolian cosmopolitan epistemology lifestyle diversity chauvinism westernization materialism vernacular homogeneity otherness holism tusculanae disputationes primitivism superficiality hedonism discourse puritanism modernism intellectualism exclusiveness elitism colonialism pentecostalism paganism nationwide expansion rural auxesis kimono culturize alethophobia nettlebed japanification dongyi clannishness insularity hybridity westernisation foreignness worldview exclusionism enculturation ethnocentrism confucianist vulgarization shintoism westernism denominationalism deracination eurocentrism cosmology emotiveness bohemianism territorialism philosophical-doctrine minority social-darwinism theory evolution systemfolk music traditional art house karl-marx theorymedia film-theory museum study artifact'] as keyword args. From version 0.25 passing these as positional arguments will result in an error\n",
      "  warnings.warn(\"Pass {} as keyword args. From version 0.25 \"\n",
      "C:\\Users\\maryem gmach\\anaconda3\\lib\\site-packages\\sklearn\\utils\\validation.py:68: FutureWarning: Pass input=['disease obesity world health organization medicine nutrition well-being exercise welfare wellness care public nursing stress safety hygiene research social healthy condition aid epidemiology healthiness wellbeing illness medical dieteducation infectious environmental healthcare physical fitness hospital provider doctor community design insurance sanitation human body patient mental medicare agriculture science fitnesshealth policy weight loss therapy psychology pharmacy metabolic organism lifestyle status unhealthy upbeat vaccination sleep condom alcohol smoking water family eudaimonia eudaemonia air house prevention genetics poor need treatment communicable study protection malaria development food priority management healthful provide department administration program help assistance funding environment improving emergency affected school private treat preparedness perinatal fertility sickness veterinary sanitary pharmacist behavioral midwife gerontology infertility hospitalization midwifery cholesterol childcare pediatrician pediatrics medicaid asthma pension push-up education body-mass-index eat well gymnastic apparatus tune good morning bathing low blood-pressure heart attack club ride-bike feel eczema urticaria dermatitis sunburn overwork manufacturing sociology run'] as keyword args. From version 0.25 passing these as positional arguments will result in an error\n",
      "  warnings.warn(\"Pass {} as keyword args. From version 0.25 \"\n"
     ]
    }
   ],
   "source": [
    "socialvector = get_vectors(social)\n",
    "economic_vector = get_vectors(economy)\n",
    "culture_vector = get_vectors(culture)\n",
    "health_vector = get_vectors(health)"
   ]
  },
  {
   "cell_type": "code",
   "execution_count": 58,
   "metadata": {},
   "outputs": [],
   "source": [
    "\n",
    "## Vectorizing the tweets\n",
    "tv=TfidfVectorizer()\n",
    "tfidf_tweets =tv.fit_transform(tweet.Tweet)\n",
    "tfidf_tweets =tv.fit_transform((tweet.screen_name).values.astype('U')) ##convertir scree_name to unicode"
   ]
  },
  {
   "cell_type": "markdown",
   "metadata": {},
   "source": [
    "## Jaccard Similarity"
   ]
  },
  {
   "cell_type": "markdown",
   "metadata": {},
   "source": [
    "Jaccard similarity is good for cases where duplication does not matter,\n",
    "cosine similarity is good for cases where duplication matters while analyzing text similarity\n",
    "For two product descriptions, \n",
    "it will be better to use Jaccard similarity as repetition of a word does not reduce their similarity."
   ]
  },
  {
   "cell_type": "code",
   "execution_count": 59,
   "metadata": {},
   "outputs": [],
   "source": [
    "\n",
    "def jaccard_similarity(query, document):\n",
    "    intersection = set(query).intersection(set(document))\n",
    "    union = set(query).union(set(document))\n",
    "    return len(intersection)/len(union)\n",
    "\n",
    "def get_scores(group,tweets):\n",
    "    scores = []\n",
    "    for tweet in tweets:\n",
    "        s = jaccard_similarity(group, tweet)\n",
    "        scores.append(s)\n",
    "    return scores"
   ]
  },
  {
   "cell_type": "code",
   "execution_count": 60,
   "metadata": {},
   "outputs": [
    {
     "data": {
      "text/plain": [
       "[0.7857142857142857,\n",
       " 0.75,\n",
       " 0.5,\n",
       " 0.75,\n",
       " 0.7142857142857143,\n",
       " 0.7142857142857143,\n",
       " 0.75,\n",
       " 0.75,\n",
       " 0.75,\n",
       " 0.6428571428571429]"
      ]
     },
     "execution_count": 60,
     "metadata": {},
     "output_type": "execute_result"
    }
   ],
   "source": [
    "# economic scores\n",
    "e_scores = get_scores(economy,tweet.Tweet.to_list())\n",
    "e_scores[-10:]"
   ]
  },
  {
   "cell_type": "code",
   "execution_count": 61,
   "metadata": {},
   "outputs": [
    {
     "data": {
      "text/plain": [
       "[0.8148148148148148,\n",
       " 0.7777777777777778,\n",
       " 0.5185185185185185,\n",
       " 0.7777777777777778,\n",
       " 0.7407407407407407,\n",
       " 0.6785714285714286,\n",
       " 0.7777777777777778,\n",
       " 0.7777777777777778,\n",
       " 0.7777777777777778,\n",
       " 0.6666666666666666]"
      ]
     },
     "execution_count": 61,
     "metadata": {},
     "output_type": "execute_result"
    }
   ],
   "source": [
    "# social scores\n",
    "s_scores = get_scores(social, tweet.Tweet.to_list())\n",
    "s_scores[-10:]"
   ]
  },
  {
   "cell_type": "code",
   "execution_count": 62,
   "metadata": {},
   "outputs": [
    {
     "data": {
      "text/plain": [
       "[0.7857142857142857,\n",
       " 0.75,\n",
       " 0.5,\n",
       " 0.75,\n",
       " 0.7142857142857143,\n",
       " 0.7142857142857143,\n",
       " 0.75,\n",
       " 0.75,\n",
       " 0.75,\n",
       " 0.6428571428571429]"
      ]
     },
     "execution_count": 62,
     "metadata": {},
     "output_type": "execute_result"
    }
   ],
   "source": [
    "# culture scores\n",
    "c_scores = get_scores(culture, tweet.Tweet.to_list())\n",
    "c_scores[-10:]"
   ]
  },
  {
   "cell_type": "code",
   "execution_count": 63,
   "metadata": {},
   "outputs": [
    {
     "data": {
      "text/plain": [
       "[0.8518518518518519,\n",
       " 0.8076923076923077,\n",
       " 0.8076923076923077,\n",
       " 0.6923076923076923,\n",
       " 0.6153846153846154,\n",
       " 0.8076923076923077]"
      ]
     },
     "execution_count": 63,
     "metadata": {},
     "output_type": "execute_result"
    }
   ],
   "source": [
    "# health scores\n",
    "h_scores = get_scores(health, tweet.Tweet.to_list())\n",
    "h_scores[:6]"
   ]
  },
  {
   "cell_type": "code",
   "execution_count": 64,
   "metadata": {},
   "outputs": [
    {
     "data": {
      "text/html": [
       "<div>\n",
       "<style scoped>\n",
       "    .dataframe tbody tr th:only-of-type {\n",
       "        vertical-align: middle;\n",
       "    }\n",
       "\n",
       "    .dataframe tbody tr th {\n",
       "        vertical-align: top;\n",
       "    }\n",
       "\n",
       "    .dataframe thead th {\n",
       "        text-align: right;\n",
       "    }\n",
       "</style>\n",
       "<table border=\"1\" class=\"dataframe\">\n",
       "  <thead>\n",
       "    <tr style=\"text-align: right;\">\n",
       "      <th></th>\n",
       "      <th>names</th>\n",
       "      <th>economic_score</th>\n",
       "      <th>social_score</th>\n",
       "      <th>culture_score</th>\n",
       "      <th>health_scores</th>\n",
       "    </tr>\n",
       "  </thead>\n",
       "  <tbody>\n",
       "    <tr>\n",
       "      <th>0</th>\n",
       "      <td>cambia health</td>\n",
       "      <td>0.857143</td>\n",
       "      <td>0.821429</td>\n",
       "      <td>0.857143</td>\n",
       "      <td>0.851852</td>\n",
       "    </tr>\n",
       "    <tr>\n",
       "      <th>1</th>\n",
       "      <td>vape n fan</td>\n",
       "      <td>0.750000</td>\n",
       "      <td>0.777778</td>\n",
       "      <td>0.750000</td>\n",
       "      <td>0.807692</td>\n",
       "    </tr>\n",
       "    <tr>\n",
       "      <th>2</th>\n",
       "      <td>alexis winter warqueer</td>\n",
       "      <td>0.750000</td>\n",
       "      <td>0.777778</td>\n",
       "      <td>0.750000</td>\n",
       "      <td>0.807692</td>\n",
       "    </tr>\n",
       "    <tr>\n",
       "      <th>3</th>\n",
       "      <td>jeannette macgregor</td>\n",
       "      <td>0.642857</td>\n",
       "      <td>0.666667</td>\n",
       "      <td>0.642857</td>\n",
       "      <td>0.692308</td>\n",
       "    </tr>\n",
       "    <tr>\n",
       "      <th>4</th>\n",
       "      <td>arc</td>\n",
       "      <td>0.571429</td>\n",
       "      <td>0.592593</td>\n",
       "      <td>0.571429</td>\n",
       "      <td>0.615385</td>\n",
       "    </tr>\n",
       "    <tr>\n",
       "      <th>5</th>\n",
       "      <td>ptwills</td>\n",
       "      <td>0.750000</td>\n",
       "      <td>0.714286</td>\n",
       "      <td>0.750000</td>\n",
       "      <td>0.807692</td>\n",
       "    </tr>\n",
       "    <tr>\n",
       "      <th>6</th>\n",
       "      <td>balbir singh</td>\n",
       "      <td>0.750000</td>\n",
       "      <td>0.777778</td>\n",
       "      <td>0.750000</td>\n",
       "      <td>0.807692</td>\n",
       "    </tr>\n",
       "    <tr>\n",
       "      <th>7</th>\n",
       "      <td>dr pepper code konaa</td>\n",
       "      <td>0.750000</td>\n",
       "      <td>0.777778</td>\n",
       "      <td>0.750000</td>\n",
       "      <td>0.807692</td>\n",
       "    </tr>\n",
       "    <tr>\n",
       "      <th>8</th>\n",
       "      <td>raheel</td>\n",
       "      <td>0.714286</td>\n",
       "      <td>0.740741</td>\n",
       "      <td>0.714286</td>\n",
       "      <td>0.769231</td>\n",
       "    </tr>\n",
       "    <tr>\n",
       "      <th>9</th>\n",
       "      <td>mordechai d rodgold</td>\n",
       "      <td>0.857143</td>\n",
       "      <td>0.888889</td>\n",
       "      <td>0.857143</td>\n",
       "      <td>0.851852</td>\n",
       "    </tr>\n",
       "    <tr>\n",
       "      <th>10</th>\n",
       "      <td>dr abigail fcking devereaux</td>\n",
       "      <td>0.714286</td>\n",
       "      <td>0.740741</td>\n",
       "      <td>0.714286</td>\n",
       "      <td>0.769231</td>\n",
       "    </tr>\n",
       "    <tr>\n",
       "      <th>11</th>\n",
       "      <td>elyse</td>\n",
       "      <td>0.785714</td>\n",
       "      <td>0.814815</td>\n",
       "      <td>0.785714</td>\n",
       "      <td>0.777778</td>\n",
       "    </tr>\n",
       "    <tr>\n",
       "      <th>12</th>\n",
       "      <td>somd sierra club</td>\n",
       "      <td>0.642857</td>\n",
       "      <td>0.666667</td>\n",
       "      <td>0.642857</td>\n",
       "      <td>0.629630</td>\n",
       "    </tr>\n",
       "    <tr>\n",
       "      <th>13</th>\n",
       "      <td>rachel graves</td>\n",
       "      <td>0.714286</td>\n",
       "      <td>0.678571</td>\n",
       "      <td>0.714286</td>\n",
       "      <td>0.703704</td>\n",
       "    </tr>\n",
       "    <tr>\n",
       "      <th>14</th>\n",
       "      <td>tchat</td>\n",
       "      <td>0.821429</td>\n",
       "      <td>0.785714</td>\n",
       "      <td>0.821429</td>\n",
       "      <td>0.814815</td>\n",
       "    </tr>\n",
       "    <tr>\n",
       "      <th>15</th>\n",
       "      <td>weneedamandebeleontv</td>\n",
       "      <td>0.785714</td>\n",
       "      <td>0.814815</td>\n",
       "      <td>0.785714</td>\n",
       "      <td>0.846154</td>\n",
       "    </tr>\n",
       "    <tr>\n",
       "      <th>16</th>\n",
       "      <td>blue georgia voter</td>\n",
       "      <td>0.750000</td>\n",
       "      <td>0.714286</td>\n",
       "      <td>0.750000</td>\n",
       "      <td>0.807692</td>\n",
       "    </tr>\n",
       "    <tr>\n",
       "      <th>17</th>\n",
       "      <td>firstpost</td>\n",
       "      <td>0.750000</td>\n",
       "      <td>0.777778</td>\n",
       "      <td>0.750000</td>\n",
       "      <td>0.807692</td>\n",
       "    </tr>\n",
       "    <tr>\n",
       "      <th>18</th>\n",
       "      <td>maggie</td>\n",
       "      <td>0.714286</td>\n",
       "      <td>0.740741</td>\n",
       "      <td>0.714286</td>\n",
       "      <td>0.769231</td>\n",
       "    </tr>\n",
       "    <tr>\n",
       "      <th>19</th>\n",
       "      <td>spencer</td>\n",
       "      <td>0.821429</td>\n",
       "      <td>0.851852</td>\n",
       "      <td>0.821429</td>\n",
       "      <td>0.884615</td>\n",
       "    </tr>\n",
       "  </tbody>\n",
       "</table>\n",
       "</div>"
      ],
      "text/plain": [
       "                            names  economic_score  social_score  \\\n",
       "0                   cambia health        0.857143      0.821429   \n",
       "1                      vape n fan        0.750000      0.777778   \n",
       "2         alexis winter warqueer         0.750000      0.777778   \n",
       "3             jeannette macgregor        0.642857      0.666667   \n",
       "4                             arc        0.571429      0.592593   \n",
       "5                         ptwills        0.750000      0.714286   \n",
       "6                    balbir singh        0.750000      0.777778   \n",
       "7            dr pepper code konaa        0.750000      0.777778   \n",
       "8                          raheel        0.714286      0.740741   \n",
       "9             mordechai d rodgold        0.857143      0.888889   \n",
       "10  dr abigail fcking devereaux          0.714286      0.740741   \n",
       "11                          elyse        0.785714      0.814815   \n",
       "12               somd sierra club        0.642857      0.666667   \n",
       "13                  rachel graves        0.714286      0.678571   \n",
       "14                         tchat         0.821429      0.785714   \n",
       "15           weneedamandebeleontv        0.785714      0.814815   \n",
       "16             blue georgia voter        0.750000      0.714286   \n",
       "17                      firstpost        0.750000      0.777778   \n",
       "18                         maggie        0.714286      0.740741   \n",
       "19                        spencer        0.821429      0.851852   \n",
       "\n",
       "    culture_score  health_scores  \n",
       "0        0.857143       0.851852  \n",
       "1        0.750000       0.807692  \n",
       "2        0.750000       0.807692  \n",
       "3        0.642857       0.692308  \n",
       "4        0.571429       0.615385  \n",
       "5        0.750000       0.807692  \n",
       "6        0.750000       0.807692  \n",
       "7        0.750000       0.807692  \n",
       "8        0.714286       0.769231  \n",
       "9        0.857143       0.851852  \n",
       "10       0.714286       0.769231  \n",
       "11       0.785714       0.777778  \n",
       "12       0.642857       0.629630  \n",
       "13       0.714286       0.703704  \n",
       "14       0.821429       0.814815  \n",
       "15       0.785714       0.846154  \n",
       "16       0.750000       0.807692  \n",
       "17       0.750000       0.807692  \n",
       "18       0.714286       0.769231  \n",
       "19       0.821429       0.884615  "
      ]
     },
     "execution_count": 64,
     "metadata": {},
     "output_type": "execute_result"
    }
   ],
   "source": [
    "''''new df with names, and the jaccard scores for each group'''\n",
    "\n",
    "data  = {'names':tweet.screen_name.to_list(), 'economic_score':e_scores,\n",
    "         'social_score': s_scores, 'culture_score':c_scores, 'health_scores':h_scores}\n",
    "scores_df = pd.DataFrame(data)\n",
    "scores_df.head(20)"
   ]
  },
  {
   "cell_type": "code",
   "execution_count": 65,
   "metadata": {},
   "outputs": [],
   "source": [
    "\n",
    "'''Actual assigning of classes to the tweets'''\n",
    "\n",
    "def get_clusters(l1, l2, l3, l4):\n",
    "    econ = []\n",
    "    socio = []\n",
    "    cul = []\n",
    "    heal = []\n",
    "    for i, j, k, l in zip(l1, l2, l3, l4):\n",
    "        m = max(i, j, k, l)\n",
    "        if m == i:\n",
    "            econ.append(1)\n",
    "        else:\n",
    "            econ.append(0)\n",
    "        if m == j:\n",
    "            socio.append(1)\n",
    "        else:\n",
    "            socio.append(0)        \n",
    "        if m == k:\n",
    "            cul.append(1)\n",
    "        else:\n",
    "            cul.append(0)  \n",
    "        if m == l:\n",
    "            heal.append(1)\n",
    "        else:\n",
    "            heal.append(0)   \n",
    "            \n",
    "    return econ, socio, cul, heal"
   ]
  },
  {
   "cell_type": "code",
   "execution_count": 66,
   "metadata": {},
   "outputs": [],
   "source": [
    "l1 = scores_df.economic_score.to_list()\n",
    "l2 = scores_df.social_score.to_list()\n",
    "l3 = scores_df.culture_score.to_list()\n",
    "l4 = scores_df.health_scores.to_list()\n",
    "\n",
    "econ, socio, cul, heal = get_clusters(l1, l2, l3, l4)"
   ]
  },
  {
   "cell_type": "code",
   "execution_count": 67,
   "metadata": {},
   "outputs": [
    {
     "data": {
      "text/html": [
       "<div>\n",
       "<style scoped>\n",
       "    .dataframe tbody tr th:only-of-type {\n",
       "        vertical-align: middle;\n",
       "    }\n",
       "\n",
       "    .dataframe tbody tr th {\n",
       "        vertical-align: top;\n",
       "    }\n",
       "\n",
       "    .dataframe thead th {\n",
       "        text-align: right;\n",
       "    }\n",
       "</style>\n",
       "<table border=\"1\" class=\"dataframe\">\n",
       "  <thead>\n",
       "    <tr style=\"text-align: right;\">\n",
       "      <th></th>\n",
       "      <th>name</th>\n",
       "      <th>economic</th>\n",
       "      <th>social</th>\n",
       "      <th>culture</th>\n",
       "      <th>health</th>\n",
       "    </tr>\n",
       "  </thead>\n",
       "  <tbody>\n",
       "    <tr>\n",
       "      <th>0</th>\n",
       "      <td>cambia health</td>\n",
       "      <td>1</td>\n",
       "      <td>0</td>\n",
       "      <td>1</td>\n",
       "      <td>0</td>\n",
       "    </tr>\n",
       "    <tr>\n",
       "      <th>1</th>\n",
       "      <td>vape n fan</td>\n",
       "      <td>0</td>\n",
       "      <td>0</td>\n",
       "      <td>0</td>\n",
       "      <td>1</td>\n",
       "    </tr>\n",
       "    <tr>\n",
       "      <th>2</th>\n",
       "      <td>alexis winter warqueer</td>\n",
       "      <td>0</td>\n",
       "      <td>0</td>\n",
       "      <td>0</td>\n",
       "      <td>1</td>\n",
       "    </tr>\n",
       "    <tr>\n",
       "      <th>3</th>\n",
       "      <td>jeannette macgregor</td>\n",
       "      <td>0</td>\n",
       "      <td>0</td>\n",
       "      <td>0</td>\n",
       "      <td>1</td>\n",
       "    </tr>\n",
       "    <tr>\n",
       "      <th>4</th>\n",
       "      <td>arc</td>\n",
       "      <td>0</td>\n",
       "      <td>0</td>\n",
       "      <td>0</td>\n",
       "      <td>1</td>\n",
       "    </tr>\n",
       "  </tbody>\n",
       "</table>\n",
       "</div>"
      ],
      "text/plain": [
       "                      name  economic  social  culture  health\n",
       "0            cambia health         1       0        1       0\n",
       "1               vape n fan         0       0        0       1\n",
       "2  alexis winter warqueer          0       0        0       1\n",
       "3      jeannette macgregor         0       0        0       1\n",
       "4                      arc         0       0        0       1"
      ]
     },
     "execution_count": 67,
     "metadata": {},
     "output_type": "execute_result"
    }
   ],
   "source": [
    "data = {'name': scores_df.names.to_list(), 'economic':econ, 'social':socio, 'culture':cul, 'health': heal}\n",
    "cluster_df = pd.DataFrame(data)\n",
    "cluster_df.head(5)\n"
   ]
  },
  {
   "cell_type": "code",
   "execution_count": 68,
   "metadata": {},
   "outputs": [],
   "source": [
    "'''Due to the close similarity between the economic, social and health tweets, some tweets have multiple categories, \n",
    "so to take care of that the rows with a sum > 1 will have to share the categories. After this, clustering will take care \n",
    "of the fractions'''\n",
    "\n",
    "\n",
    "a =  cluster_df[['economic', 'social', 'culture', 'health']].sum(axis = 1) > 1\n",
    "c = cluster_df[['economic', 'social', 'culture', 'health']].sum(axis = 1)\n",
    "# b = cluster_df.copy()\n",
    "cluster_df.loc[(a), ['economic','social', 'culture', 'health']] = 1/c"
   ]
  },
  {
   "cell_type": "code",
   "execution_count": 69,
   "metadata": {},
   "outputs": [
    {
     "data": {
      "text/plain": [
       "(8977, 5)"
      ]
     },
     "execution_count": 69,
     "metadata": {},
     "output_type": "execute_result"
    }
   ],
   "source": [
    "cluster_df.shape"
   ]
  },
  {
   "cell_type": "markdown",
   "metadata": {},
   "source": [
    "#  Clustered DF"
   ]
  },
  {
   "cell_type": "code",
   "execution_count": 70,
   "metadata": {},
   "outputs": [
    {
     "name": "stdout",
     "output_type": "stream",
     "text": [
      "(7929, 5)\n"
     ]
    },
    {
     "data": {
      "text/html": [
       "<div>\n",
       "<style scoped>\n",
       "    .dataframe tbody tr th:only-of-type {\n",
       "        vertical-align: middle;\n",
       "    }\n",
       "\n",
       "    .dataframe tbody tr th {\n",
       "        vertical-align: top;\n",
       "    }\n",
       "\n",
       "    .dataframe thead th {\n",
       "        text-align: right;\n",
       "    }\n",
       "</style>\n",
       "<table border=\"1\" class=\"dataframe\">\n",
       "  <thead>\n",
       "    <tr style=\"text-align: right;\">\n",
       "      <th></th>\n",
       "      <th>economic</th>\n",
       "      <th>social</th>\n",
       "      <th>culture</th>\n",
       "      <th>health</th>\n",
       "      <th>total</th>\n",
       "    </tr>\n",
       "    <tr>\n",
       "      <th>name</th>\n",
       "      <th></th>\n",
       "      <th></th>\n",
       "      <th></th>\n",
       "      <th></th>\n",
       "      <th></th>\n",
       "    </tr>\n",
       "  </thead>\n",
       "  <tbody>\n",
       "    <tr>\n",
       "      <th>zorawar gill shukla</th>\n",
       "      <td>0</td>\n",
       "      <td>0</td>\n",
       "      <td>0</td>\n",
       "      <td>1</td>\n",
       "      <td>1</td>\n",
       "    </tr>\n",
       "    <tr>\n",
       "      <th>ztm</th>\n",
       "      <td>0</td>\n",
       "      <td>0</td>\n",
       "      <td>0</td>\n",
       "      <td>1</td>\n",
       "      <td>1</td>\n",
       "    </tr>\n",
       "    <tr>\n",
       "      <th>zulay</th>\n",
       "      <td>0</td>\n",
       "      <td>0</td>\n",
       "      <td>0</td>\n",
       "      <td>1</td>\n",
       "      <td>1</td>\n",
       "    </tr>\n",
       "    <tr>\n",
       "      <th>zyaad khan</th>\n",
       "      <td>0</td>\n",
       "      <td>0</td>\n",
       "      <td>0</td>\n",
       "      <td>1</td>\n",
       "      <td>1</td>\n",
       "    </tr>\n",
       "    <tr>\n",
       "      <th>Total</th>\n",
       "      <td>13</td>\n",
       "      <td>1027</td>\n",
       "      <td>13</td>\n",
       "      <td>7195</td>\n",
       "      <td>8248</td>\n",
       "    </tr>\n",
       "  </tbody>\n",
       "</table>\n",
       "</div>"
      ],
      "text/plain": [
       "                      economic  social  culture  health  total\n",
       "name                                                          \n",
       "zorawar gill shukla          0       0        0       1      1\n",
       "ztm                          0       0        0       1      1\n",
       "zulay                        0       0        0       1      1\n",
       "zyaad khan                   0       0        0       1      1\n",
       "Total                       13    1027       13    7195   8248"
      ]
     },
     "execution_count": 70,
     "metadata": {},
     "output_type": "execute_result"
    }
   ],
   "source": [
    "pivot_clusters = cluster_df.groupby(['name']).sum()\n",
    "pivot_clusters['economic'] = pivot_clusters['economic'].astype(int)\n",
    "pivot_clusters['social'] = pivot_clusters['social'].astype(int)\n",
    "pivot_clusters['culture'] = pivot_clusters['culture'].astype(int)\n",
    "pivot_clusters['health'] = pivot_clusters['health'].astype(int)\n",
    "pivot_clusters['total'] = pivot_clusters['health'] + pivot_clusters['culture'] + pivot_clusters['social'] +  pivot_clusters['economic']\n",
    "pivot_clusters.loc[\"Total\"] = pivot_clusters.sum()  #add a totals row\n",
    "print(pivot_clusters.shape)\n",
    "pivot_clusters.tail()"
   ]
  },
  {
   "cell_type": "markdown",
   "metadata": {},
   "source": [
    "## Visualisations"
   ]
  },
  {
   "cell_type": "code",
   "execution_count": 71,
   "metadata": {},
   "outputs": [
    {
     "data": {
      "image/png": "[encoded data removed]",
      "text/plain": [
       "<Figure size 720x504 with 1 Axes>"
      ]
     },
     "metadata": {},
     "output_type": "display_data"
    }
   ],
   "source": [
    "\n",
    "'''A pie chart to show the total number of tweets in each category'''\n",
    "\n",
    "fig = plt.figure(figsize =(10, 7)) \n",
    "a = pivot_clusters.drop(['total'], axis = 1)\n",
    "plt.pie(a.loc['Total'], labels = a.columns)\n",
    "plt.title('A pie chart showing the volumes of tweets under different categories.')\n",
    "plt.show()"
   ]
  },
  {
   "cell_type": "code",
   "execution_count": 72,
   "metadata": {},
   "outputs": [
    {
     "name": "stderr",
     "output_type": "stream",
     "text": [
      "C:\\Users\\maryem gmach\\anaconda3\\lib\\site-packages\\pandas\\core\\frame.py:3990: SettingWithCopyWarning: \n",
      "A value is trying to be set on a copy of a slice from a DataFrame\n",
      "\n",
      "See the caveats in the documentation: https://pandas.pydata.org/pandas-docs/stable/user_guide/indexing.html#returning-a-view-versus-a-copy\n",
      "  return super().drop(\n"
     ]
    },
    {
     "data": {
      "text/plain": [
       "Text(0, 0.5, 'total tweets')"
      ]
     },
     "execution_count": 72,
     "metadata": {},
     "output_type": "execute_result"
    },
    {
     "data": {
      "image/png": "[encoded data removed]",
      "text/plain": [
       "<Figure size 864x720 with 1 Axes>"
      ]
     },
     "metadata": {
      "needs_background": "light"
     },
     "output_type": "display_data"
    }
   ],
   "source": [
    "''' Users with most tweets'''\n",
    "\n",
    "d = pivot_clusters.sort_values(by = 'total', ascending  = False)\n",
    "e = d.head(12)\n",
    "e.drop(e.head(2).index, inplace=True)\n",
    "\n",
    "plt.figure(figsize=(12,10))\n",
    "sns.barplot(x = e.index, y = e.total)\n",
    "plt.title('A bar plot showing top tweeps based on volume of tweets')\n",
    "plt.xticks(rotation=45)\n",
    "plt.xlabel('screen names')\n",
    "plt.ylabel('total tweets')"
   ]
  },
  {
   "cell_type": "markdown",
   "metadata": {},
   "source": [
    "## KMeans Clustering"
   ]
  },
  {
   "cell_type": "markdown",
   "metadata": {},
   "source": [
    "### 2D Clusters"
   ]
  },
  {
   "cell_type": "markdown",
   "metadata": {},
   "source": [
    "### * Socio-Economic"
   ]
  },
  {
   "cell_type": "code",
   "execution_count": 80,
   "metadata": {},
   "outputs": [
    {
     "data": {
      "image/png": "[encoded data removed]",
      "text/plain": [
       "<Figure size 432x288 with 1 Axes>"
      ]
     },
     "metadata": {
      "needs_background": "light"
     },
     "output_type": "display_data"
    }
   ],
   "source": [
    "# fitting kmeans to dataset\n",
    "kmeans = KMeans(n_clusters=3, init='k-means++', n_init=10, max_iter=300, random_state=0)\n",
    "Y_kmeans = kmeans.fit_predict(X)\n",
    "\n",
    "# Visualising the clusters\n",
    "plt.scatter(X[Y_kmeans==0, 0], X[Y_kmeans==0, 1], s=100, c='violet', label= 'Cluster 1')\n",
    "plt.scatter(X[Y_kmeans==1, 0], X[Y_kmeans==1, 1], s=100, c='cyan', label= 'Cluster 2')\n",
    "plt.scatter(X[Y_kmeans==2, 0], X[Y_kmeans==2, 1], s=100, c='green', label= 'Cluster 3')\n",
    "# plt.scatter(X[Y_kmeans==3, 0], X[Y_kmeans==3, 1], s=100, c='blue', label= 'Cluster 4')\n",
    "# plt.scatter(X[Y_kmeans==4, 0], X[Y_kmeans==4, 1], s=100, c='magenta', label= 'Cluster 5')\n",
    "plt.scatter(kmeans.cluster_centers_[:, 0], kmeans.cluster_centers_[:, 1], s=100, c='black', label='Centroids' )\n",
    "plt.title('Clusters of tweets in economic and social groups')\n",
    "plt.xlabel('economic tweets')\n",
    "plt.ylabel('social tweets')\n",
    "plt.legend()\n",
    "plt.show()"
   ]
  },
  {
   "cell_type": "markdown",
   "metadata": {},
   "source": [
    "### * Socio-Culture"
   ]
  },
  {
   "cell_type": "code",
   "execution_count": 82,
   "metadata": {},
   "outputs": [
    {
     "data": {
      "image/png": "[encoded data removed]",
      "text/plain": [
       "<Figure size 432x288 with 1 Axes>"
      ]
     },
     "metadata": {
      "needs_background": "light"
     },
     "output_type": "display_data"
    }
   ],
   "source": [
    "\n",
    "# fitting kmeans to dataset\n",
    "kmeans = KMeans(n_clusters=3, init='k-means++', n_init=10, max_iter=300, random_state=0)\n",
    "Y_kmeans = kmeans.fit_predict(X)\n",
    "\n",
    "# Visualising the clusters\n",
    "plt.scatter(X[Y_kmeans==0, 0], X[Y_kmeans==0, 1], s=100, c='violet', label= 'Cluster 1')\n",
    "plt.scatter(X[Y_kmeans==1, 0], X[Y_kmeans==1, 1], s=100, c='cyan', label= 'Cluster 2')\n",
    "plt.scatter(X[Y_kmeans==2, 0], X[Y_kmeans==2, 1], s=100, c='green', label= 'Cluster 3')\n",
    "plt.scatter(X[Y_kmeans==3, 0], X[Y_kmeans==3, 1], s=100, c='blue', label= 'Cluster 4')\n",
    "\n",
    "\n",
    "plt.scatter(kmeans.cluster_centers_[:, 0], kmeans.cluster_centers_[:, 1], s=100, c='black', label='Centroids' )\n",
    "plt.title('Clusters of tweets in culture and social groups')\n",
    "plt.xlabel('social tweets')\n",
    "plt.ylabel('culture tweets')\n",
    "plt.legend()\n",
    "plt.show()"
   ]
  },
  {
   "cell_type": "markdown",
   "metadata": {},
   "source": [
    "### * Socio-Health\n"
   ]
  },
  {
   "cell_type": "code",
   "execution_count": 84,
   "metadata": {},
   "outputs": [
    {
     "data": {
      "image/png": "[encoded data removed]",
      "text/plain": [
       "<Figure size 432x288 with 1 Axes>"
      ]
     },
     "metadata": {
      "needs_background": "light"
     },
     "output_type": "display_data"
    }
   ],
   "source": [
    "# fitting kmeans to dataset\n",
    "kmeans = KMeans(n_clusters=3, init='k-means++', n_init=10, max_iter=300, random_state=0)\n",
    "Y_kmeans = kmeans.fit_predict(X)\n",
    "\n",
    "# Visualising the clusters\n",
    "plt.scatter(X[Y_kmeans==0, 0], X[Y_kmeans==0, 1], s=100, c='violet', label= 'Cluster 1')\n",
    "plt.scatter(X[Y_kmeans==1, 0], X[Y_kmeans==1, 1], s=100, c='cyan', label= 'Cluster 2')\n",
    "plt.scatter(X[Y_kmeans==2, 0], X[Y_kmeans==2, 1], s=100, c='green', label= 'Cluster 3')\n",
    "plt.scatter(X[Y_kmeans==3, 0], X[Y_kmeans==3, 1], s=100, c='blue', label= 'Cluster 4')\n",
    "\n",
    "plt.scatter(kmeans.cluster_centers_[:, 0], kmeans.cluster_centers_[:, 1], s=100, c='black', label='Centroids' )\n",
    "plt.title('Clusters of tweets in health and social groups')\n",
    "plt.xlabel('social tweets')\n",
    "plt.ylabel('health tweets')\n",
    "plt.legend()\n",
    "plt.show()"
   ]
  },
  {
   "cell_type": "markdown",
   "metadata": {},
   "source": [
    "###  *Economic-health"
   ]
  },
  {
   "cell_type": "code",
   "execution_count": 89,
   "metadata": {},
   "outputs": [
    {
     "name": "stderr",
     "output_type": "stream",
     "text": [
      "C:\\Users\\maryem gmach\\anaconda3\\lib\\site-packages\\sklearn\\cluster\\_kmeans.py:1105: ConvergenceWarning: Number of distinct clusters (3) found smaller than n_clusters (4). Possibly due to duplicate points in X.\n",
      "  return self.fit(X, sample_weight=sample_weight).labels_\n"
     ]
    },
    {
     "data": {
      "image/png": "[encoded data removed]",
      "text/plain": [
       "<Figure size 432x288 with 1 Axes>"
      ]
     },
     "metadata": {
      "needs_background": "light"
     },
     "output_type": "display_data"
    }
   ],
   "source": [
    "# fitting kmeans to dataset\n",
    "kmeans = KMeans(n_clusters=4, init='k-means++', n_init=10, max_iter=300, random_state=0)\n",
    "Y_kmeans = kmeans.fit_predict(X)\n",
    "\n",
    "# Visualising the clusters\n",
    "plt.scatter(X[Y_kmeans==0, 0], X[Y_kmeans==0, 1], s=100, c='violet', label= 'Cluster 1')\n",
    "plt.scatter(X[Y_kmeans==1, 0], X[Y_kmeans==1, 1], s=100, c='cyan', label= 'Cluster 2')\n",
    "plt.scatter(X[Y_kmeans==2, 0], X[Y_kmeans==2, 1], s=100, c='green', label= 'Cluster 3')\n",
    "plt.scatter(X[Y_kmeans==3, 0], X[Y_kmeans==3, 1], s=100, c='blue', label= 'Cluster 4')\n",
    "plt.scatter(kmeans.cluster_centers_[:, 0], kmeans.cluster_centers_[:, 1], s=100, c='black', label='Centroids' )\n",
    "plt.title('Clusters of tweets in economic and health groups')\n",
    "plt.xlabel('economic tweets')\n",
    "plt.ylabel('health tweets')\n",
    "plt.legend()\n",
    "plt.show()"
   ]
  },
  {
   "cell_type": "markdown",
   "metadata": {},
   "source": [
    "### *Economic-Culture "
   ]
  },
  {
   "cell_type": "code",
   "execution_count": 88,
   "metadata": {},
   "outputs": [
    {
     "name": "stderr",
     "output_type": "stream",
     "text": [
      "C:\\Users\\maryem gmach\\anaconda3\\lib\\site-packages\\sklearn\\cluster\\_kmeans.py:1105: ConvergenceWarning: Number of distinct clusters (3) found smaller than n_clusters (4). Possibly due to duplicate points in X.\n",
      "  return self.fit(X, sample_weight=sample_weight).labels_\n"
     ]
    },
    {
     "data": {
      "image/png": "[encoded data removed]",
      "text/plain": [
       "<Figure size 432x288 with 1 Axes>"
      ]
     },
     "metadata": {
      "needs_background": "light"
     },
     "output_type": "display_data"
    }
   ],
   "source": [
    "# fitting kmeans to dataset\n",
    "kmeans = KMeans(n_clusters=4, init='k-means++', n_init=10, max_iter=300, random_state=0)\n",
    "Y_kmeans = kmeans.fit_predict(X)\n",
    "\n",
    "# Visualising the clusters\n",
    "plt.scatter(X[Y_kmeans==0, 0], X[Y_kmeans==0, 1], s=100, c='violet', label= 'Cluster 1')\n",
    "plt.scatter(X[Y_kmeans==1, 0], X[Y_kmeans==1, 1], s=100, c='cyan', label= 'Cluster 2')\n",
    "plt.scatter(X[Y_kmeans==2, 0], X[Y_kmeans==2, 1], s=100, c='green', label= 'Cluster 3')\n",
    "plt.scatter(X[Y_kmeans==3, 0], X[Y_kmeans==3, 1], s=100, c='blue', label= 'Cluster 4')\n",
    "\n",
    "plt.scatter(kmeans.cluster_centers_[:, 0], kmeans.cluster_centers_[:, 1], s=100, c='black', label='Centroids' )\n",
    "plt.title('Clusters of tweets in economic and culture groups')\n",
    "plt.xlabel('economic tweets')\n",
    "plt.ylabel('culture tweets')\n",
    "plt.legend()\n",
    "plt.show()"
   ]
  },
  {
   "cell_type": "markdown",
   "metadata": {},
   "source": [
    "### *Health-Culture"
   ]
  },
  {
   "cell_type": "code",
   "execution_count": 92,
   "metadata": {},
   "outputs": [
    {
     "data": {
      "image/png": "[encoded data removed]",
      "text/plain": [
       "<Figure size 432x288 with 1 Axes>"
      ]
     },
     "metadata": {
      "needs_background": "light"
     },
     "output_type": "display_data"
    }
   ],
   "source": [
    "# fitting kmeans to dataset\n",
    "kmeans = KMeans(n_clusters=4, init='k-means++', n_init=10, max_iter=300, random_state=0)\n",
    "Y_kmeans = kmeans.fit_predict(X)\n",
    "\n",
    "# Visualising the clusters\n",
    "plt.scatter(X[Y_kmeans==0, 0], X[Y_kmeans==0, 1], s=70, c='violet', label= 'Cluster 1')\n",
    "plt.scatter(X[Y_kmeans==1, 0], X[Y_kmeans==1, 1], s=70, c='cyan', label= 'Cluster 2')\n",
    "plt.scatter(X[Y_kmeans==2, 0], X[Y_kmeans==2, 1], s=70, c='green', label= 'Cluster 3')\n",
    "plt.scatter(X[Y_kmeans==3, 0], X[Y_kmeans==3, 1], s=70, c='blue', label= 'Cluster 4')\n",
    "plt.scatter(kmeans.cluster_centers_[:, 0], kmeans.cluster_centers_[:, 1], s=100, c='black', label='Centroids' )\n",
    "plt.title('Clusters of tweets in culture and health groups')\n",
    "plt.xlabel('health tweets')\n",
    "plt.ylabel('culture tweets')\n",
    "plt.legend()\n",
    "plt.show()"
   ]
  }
 ],
 "metadata": {
  "kernelspec": {
   "display_name": "Python 3",
   "language": "python",
   "name": "python3"
  },
  "language_info": {
   "codemirror_mode": {
    "name": "ipython",
    "version": 3
   },
   "file_extension": ".py",
   "mimetype": "text/x-python",
   "name": "python",
   "nbconvert_exporter": "python",
   "pygments_lexer": "ipython3",
   "version": "3.8.3"
  }
 },
 "nbformat": 4,
 "nbformat_minor": 4
}
